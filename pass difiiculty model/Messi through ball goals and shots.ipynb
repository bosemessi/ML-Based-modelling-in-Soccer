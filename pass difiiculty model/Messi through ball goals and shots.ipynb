{
 "cells": [
  {
   "cell_type": "code",
   "execution_count": 1,
   "metadata": {},
   "outputs": [],
   "source": [
    "import numpy as np\n",
    "import math\n",
    "import time\n",
    "import json\n",
    "import pandas as pd\n",
    "import requests\n",
    "from pandas import json_normalize\n",
    "import os\n",
    "import csv"
   ]
  },
  {
   "cell_type": "code",
   "execution_count": 2,
   "metadata": {},
   "outputs": [],
   "source": [
    "season_id = ['22','4']\n",
    "\n",
    "def load_file(season_id, getter=\"remote\", path = None):\n",
    "    resp = requests.get(f\"https://raw.githubusercontent.com/statsbomb/open-data/master/data/matches/11/{season_id}.json\")\n",
    "    season_dict = json.loads(resp.text)\n",
    "    season_df = json_normalize(season_dict, sep=\"_\")\n",
    "    return season_dict, season_df\n",
    "\n",
    "\n",
    "def load_match_file(match_id, getter=\"remote\", path = None):\n",
    "    resp = requests.get(f\"https://raw.githubusercontent.com/statsbomb/open-data/master/data/events/{match_id}.json\")\n",
    "    match_dict = json.loads(resp.text)\n",
    "    df = json_normalize(match_dict, sep=\"_\")\n",
    "    return match_dict, df\n",
    "\n",
    "match_id_list = []\n",
    "for i in season_id:\n",
    "    season_dict, season_df = load_file(i, getter=\"remote\")    \n",
    "    match_id_list.append(season_df.match_id.tolist())  "
   ]
  },
  {
   "cell_type": "code",
   "execution_count": 29,
   "metadata": {},
   "outputs": [],
   "source": [
    "# match_dict, mdf = load_match_file(match_id_list[1][2], getter=\"remote\")\n",
    "# mdf[mdf.team_name=='Barcelona'].player_name.unique()"
   ]
  },
  {
   "cell_type": "code",
   "execution_count": 30,
   "metadata": {},
   "outputs": [
    {
     "data": {
      "text/plain": [
       "['Lionel Andrés Messi Cuccittini',\n",
       " 'David Villa Sánchez',\n",
       " 'Pedro Eliezer Rodríguez Ledesma']"
      ]
     },
     "execution_count": 30,
     "metadata": {},
     "output_type": "execute_result"
    }
   ],
   "source": [
    "['Lionel Andrés Messi Cuccittini','David Villa Sánchez','Pedro Eliezer Rodríguez Ledesma']"
   ]
  },
  {
   "cell_type": "code",
   "execution_count": 16,
   "metadata": {},
   "outputs": [
    {
     "name": "stdout",
     "output_type": "stream",
     "text": [
      "[59] []\n",
      "[] [137, 160]\n",
      "[] []\n",
      "[] [147]\n",
      "[] []\n",
      "[] []\n",
      "[] []\n",
      "[] []\n",
      "[] [150]\n",
      "[] []\n",
      "[] []\n",
      "[] []\n",
      "[] [39, 156]\n",
      "[] [61, 71]\n",
      "[47] [180]\n",
      "[144] [47]\n",
      "[32] [36]\n",
      "[] []\n",
      "[] []\n",
      "[] []\n",
      "[] [147]\n",
      "[] []\n",
      "[] [154]\n",
      "[] []\n",
      "[] []\n",
      "[] [21]\n",
      "[] []\n",
      "[] [109, 112]\n",
      "[] []\n",
      "[] []\n",
      "[] []\n",
      "[] []\n",
      "[] []\n"
     ]
    }
   ],
   "source": [
    "ToPedro = pd.DataFrame()\n",
    "ToVilla = pd.DataFrame()\n",
    "Pedro = pd.DataFrame()\n",
    "Villa = pd.DataFrame()\n",
    "messidf = pd.DataFrame()\n",
    "for i in match_id_list[0]:\n",
    "    match_dict, df = load_match_file(i, getter=\"remote\")\n",
    "    messidf=df.query(\"(type_name == 'Pass')&(player_name=='Lionel Andrés Messi Cuccittini')\")\n",
    "    toPedro = messidf.query(\"(pass_recipient_name=='Pedro Eliezer Rodríguez Ledesma')\\\n",
    "                        &(pass_technique_name=='Through Ball')\")\n",
    "    toVilla = messidf.query(\"(pass_recipient_name=='David Villa Sánchez')\\\n",
    "                        &(pass_technique_name=='Through Ball')\")\n",
    "    if('pass_goal_assist' in toPedro.columns.tolist()):\n",
    "        pedroshotpossid = toPedro.query(\"(pass_shot_assist==True)or(pass_goal_assist==True)\").possession.tolist()\n",
    "    else:\n",
    "        pedroshotpossid = toPedro.query(\"(pass_shot_assist==True)\").possession.tolist()\n",
    "    if('pass_goal_assist' in toVilla.columns.tolist()):\n",
    "        villashotpossid = toVilla.query(\"(pass_shot_assist==True)or(pass_goal_assist==True)\").possession.tolist()\n",
    "    else:\n",
    "        villashotpossid = toVilla.query(\"(pass_shot_assist==True)\").possession.tolist()\n",
    "    print(pedroshotpossid,villashotpossid)\n",
    "    pedroshot = df.query(\"(possession in @pedroshotpossid)&(type_name=='Shot')\\\n",
    "                            &(player_name=='Pedro Eliezer Rodríguez Ledesma')\")\n",
    "    villashot = df.query(\"(possession in @villashotpossid)&(type_name=='Shot')\\\n",
    "                            &(player_name=='David Villa Sánchez')\")\n",
    "    Pedro = Pedro.append(pedroshot[['shot_statsbomb_xg','shot_outcome_name']])\n",
    "    Villa = Villa.append(villashot[['shot_statsbomb_xg','shot_outcome_name']])\n",
    "    messidf = messidf.append(df)\n",
    "    ToPedro = ToPedro.append(toPedro)\n",
    "    ToVilla = ToVilla.append(toVilla)"
   ]
  },
  {
   "cell_type": "code",
   "execution_count": 21,
   "metadata": {},
   "outputs": [
    {
     "data": {
      "text/plain": [
       "(1.4059566060000002, 1.37009438)"
      ]
     },
     "execution_count": 21,
     "metadata": {},
     "output_type": "execute_result"
    }
   ],
   "source": [
    "sum(Pedro.shot_statsbomb_xg),sum(Pedro[Pedro.shot_outcome_name=='Goal'].shot_statsbomb_xg)"
   ]
  },
  {
   "cell_type": "code",
   "execution_count": 22,
   "metadata": {},
   "outputs": [
    {
     "data": {
      "text/plain": [
       "(4.412000509, 2.100886554)"
      ]
     },
     "execution_count": 22,
     "metadata": {},
     "output_type": "execute_result"
    }
   ],
   "source": [
    "sum(Villa.shot_statsbomb_xg),sum(Villa[Villa.shot_outcome_name=='Goal'].shot_statsbomb_xg)"
   ]
  },
  {
   "cell_type": "code",
   "execution_count": null,
   "metadata": {},
   "outputs": [],
   "source": [
    "['Luis Alberto Suárez Díaz','Philippe Coutinho Correia','Ousmane Dembélé']"
   ]
  },
  {
   "cell_type": "code",
   "execution_count": 31,
   "metadata": {},
   "outputs": [
    {
     "name": "stdout",
     "output_type": "stream",
     "text": [
      "[121] [] []\n",
      "[] [] [139]\n",
      "[] [] []\n",
      "[] [96] []\n",
      "[172] [27] []\n",
      "[] [] []\n",
      "[65] [] [109]\n",
      "[] [] []\n",
      "[] [] []\n",
      "[] [] []\n",
      "[] [] []\n",
      "[176] [] []\n",
      "[] [] []\n",
      "[] [130] [61]\n",
      "[] [] []\n",
      "[138] [] []\n",
      "[] [] []\n",
      "[] [] []\n",
      "[] [] []\n",
      "[] [] []\n",
      "[] [] []\n",
      "[] [] []\n",
      "[] [] []\n",
      "[] [] []\n",
      "[31, 148] [] []\n",
      "[131, 192] [] []\n",
      "[] [] []\n",
      "[] [] []\n",
      "[] [] []\n",
      "[] [6] []\n",
      "[] [] []\n",
      "[] [] []\n",
      "[162] [] []\n",
      "[] [] []\n"
     ]
    }
   ],
   "source": [
    "ToSuarez = pd.DataFrame()\n",
    "ToCoutinho = pd.DataFrame()\n",
    "ToDembele = pd.DataFrame()\n",
    "Suarez = pd.DataFrame()\n",
    "Coutinho = pd.DataFrame()\n",
    "Dembele = pd.DataFrame() \n",
    "messidf = pd.DataFrame()\n",
    "for i in match_id_list[1]:\n",
    "    match_dict, df = load_match_file(i, getter=\"remote\")\n",
    "    messidf=df.query(\"(type_name == 'Pass')&(player_name=='Lionel Andrés Messi Cuccittini')\")\n",
    "    toSuarez = messidf.query(\"(pass_recipient_name=='Luis Alberto Suárez Díaz')\\\n",
    "                        &(pass_technique_name=='Through Ball')\")\n",
    "    toCoutinho = messidf.query(\"(pass_recipient_name=='Philippe Coutinho Correia')\\\n",
    "                        &(pass_technique_name=='Through Ball')\")\n",
    "    toDembele = messidf.query(\"(pass_recipient_name=='Ousmane Dembélé')\\\n",
    "                        &(pass_technique_name=='Through Ball')\")\n",
    "    if('pass_goal_assist' in toSuarez.columns.tolist()):\n",
    "        suarezshotpossid = toSuarez.query(\"(pass_shot_assist==True)or(pass_goal_assist==True)\").possession.tolist()\n",
    "    else:\n",
    "        suarezshotpossid = toSuarez.query(\"(pass_shot_assist==True)\").possession.tolist()\n",
    "    if('pass_goal_assist' in toCoutinho.columns.tolist()):\n",
    "        coutinhoshotpossid = toCoutinho.query(\"(pass_shot_assist==True)or(pass_goal_assist==True)\").possession.tolist()\n",
    "    else:\n",
    "        coutinhoshotpossid = toCoutinho.query(\"(pass_shot_assist==True)\").possession.tolist()\n",
    "    if('pass_goal_assist' in toDembele.columns.tolist()):\n",
    "        dembeleshotpossid = toDembele.query(\"(pass_shot_assist==True)or(pass_goal_assist==True)\").possession.tolist()\n",
    "    else:\n",
    "        dembeleshotpossid = toDembele.query(\"(pass_shot_assist==True)\").possession.tolist()\n",
    "    print(suarezshotpossid,coutinhoshotpossid,dembeleshotpossid)\n",
    "    suarezshot = df.query(\"(possession in @suarezshotpossid)&(type_name=='Shot')\\\n",
    "                            &(player_name=='Luis Alberto Suárez Díaz')\")\n",
    "    coutinhoshot = df.query(\"(possession in @coutinhoshotpossid)&(type_name=='Shot')\\\n",
    "                            &(player_name=='Philippe Coutinho Correia')\")\n",
    "    dembeleshot = df.query(\"(possession in @dembeleshotpossid)&(type_name=='Shot')\\\n",
    "                            &(player_name=='Ousmane Dembélé')\")\n",
    "    Suarez = Suarez.append(suarezshot[['shot_statsbomb_xg','shot_outcome_name']])\n",
    "    Coutinho = Coutinho.append(coutinhoshot[['shot_statsbomb_xg','shot_outcome_name']])\n",
    "    Dembele = Dembele.append(dembeleshot[['shot_statsbomb_xg','shot_outcome_name']])\n",
    "    messidf = messidf.append(df)\n",
    "    ToSuarez = ToSuarez.append(toSuarez)\n",
    "    ToCoutinho = ToCoutinho.append(toCoutinho)\n",
    "    ToDembele = ToDembele.append(toDembele)"
   ]
  },
  {
   "cell_type": "code",
   "execution_count": 32,
   "metadata": {},
   "outputs": [
    {
     "data": {
      "text/plain": [
       "(2.951527066, 0.3789708)"
      ]
     },
     "execution_count": 32,
     "metadata": {},
     "output_type": "execute_result"
    }
   ],
   "source": [
    "sum(Suarez.shot_statsbomb_xg),sum(Suarez[Suarez.shot_outcome_name=='Goal'].shot_statsbomb_xg)"
   ]
  },
  {
   "cell_type": "code",
   "execution_count": 33,
   "metadata": {},
   "outputs": [
    {
     "data": {
      "text/plain": [
       "(1.1499158999999999, 0.28425038)"
      ]
     },
     "execution_count": 33,
     "metadata": {},
     "output_type": "execute_result"
    }
   ],
   "source": [
    "sum(Coutinho.shot_statsbomb_xg),sum(Coutinho[Coutinho.shot_outcome_name=='Goal'].shot_statsbomb_xg)"
   ]
  },
  {
   "cell_type": "code",
   "execution_count": 34,
   "metadata": {},
   "outputs": [
    {
     "data": {
      "text/plain": [
       "(0.41036733000000003, 0)"
      ]
     },
     "execution_count": 34,
     "metadata": {},
     "output_type": "execute_result"
    }
   ],
   "source": [
    "sum(Dembele.shot_statsbomb_xg),sum(Dembele[Dembele.shot_outcome_name=='Goal'].shot_statsbomb_xg)"
   ]
  },
  {
   "cell_type": "code",
   "execution_count": 40,
   "metadata": {},
   "outputs": [
    {
     "data": {
      "text/plain": [
       "10"
      ]
     },
     "execution_count": 40,
     "metadata": {},
     "output_type": "execute_result"
    }
   ],
   "source": [
    "len(Suarez)"
   ]
  },
  {
   "cell_type": "code",
   "execution_count": 41,
   "metadata": {},
   "outputs": [
    {
     "data": {
      "text/plain": [
       "4"
      ]
     },
     "execution_count": 41,
     "metadata": {},
     "output_type": "execute_result"
    }
   ],
   "source": [
    "len(Coutinho)"
   ]
  },
  {
   "cell_type": "code",
   "execution_count": 42,
   "metadata": {},
   "outputs": [
    {
     "data": {
      "text/plain": [
       "3"
      ]
     },
     "execution_count": 42,
     "metadata": {},
     "output_type": "execute_result"
    }
   ],
   "source": [
    "len(Dembele)"
   ]
  },
  {
   "cell_type": "code",
   "execution_count": 43,
   "metadata": {},
   "outputs": [
    {
     "data": {
      "text/html": [
       "<div>\n",
       "<style scoped>\n",
       "    .dataframe tbody tr th:only-of-type {\n",
       "        vertical-align: middle;\n",
       "    }\n",
       "\n",
       "    .dataframe tbody tr th {\n",
       "        vertical-align: top;\n",
       "    }\n",
       "\n",
       "    .dataframe thead th {\n",
       "        text-align: right;\n",
       "    }\n",
       "</style>\n",
       "<table border=\"1\" class=\"dataframe\">\n",
       "  <thead>\n",
       "    <tr style=\"text-align: right;\">\n",
       "      <th></th>\n",
       "      <th>shot_statsbomb_xg</th>\n",
       "      <th>shot_outcome_name</th>\n",
       "    </tr>\n",
       "  </thead>\n",
       "  <tbody>\n",
       "    <tr>\n",
       "      <th>3239</th>\n",
       "      <td>0.070257</td>\n",
       "      <td>Blocked</td>\n",
       "    </tr>\n",
       "    <tr>\n",
       "      <th>3725</th>\n",
       "      <td>0.429342</td>\n",
       "      <td>Saved</td>\n",
       "    </tr>\n",
       "    <tr>\n",
       "      <th>2559</th>\n",
       "      <td>0.251943</td>\n",
       "      <td>Saved</td>\n",
       "    </tr>\n",
       "    <tr>\n",
       "      <th>3270</th>\n",
       "      <td>0.091991</td>\n",
       "      <td>Goal</td>\n",
       "    </tr>\n",
       "    <tr>\n",
       "      <th>620</th>\n",
       "      <td>0.272687</td>\n",
       "      <td>Post</td>\n",
       "    </tr>\n",
       "    <tr>\n",
       "      <th>2681</th>\n",
       "      <td>0.098995</td>\n",
       "      <td>Saved</td>\n",
       "    </tr>\n",
       "    <tr>\n",
       "      <th>1382</th>\n",
       "      <td>0.290794</td>\n",
       "      <td>Saved</td>\n",
       "    </tr>\n",
       "    <tr>\n",
       "      <th>1609</th>\n",
       "      <td>0.250879</td>\n",
       "      <td>Goal</td>\n",
       "    </tr>\n",
       "    <tr>\n",
       "      <th>2938</th>\n",
       "      <td>0.462315</td>\n",
       "      <td>Goal</td>\n",
       "    </tr>\n",
       "    <tr>\n",
       "      <th>1247</th>\n",
       "      <td>0.101378</td>\n",
       "      <td>Goal</td>\n",
       "    </tr>\n",
       "    <tr>\n",
       "      <th>1109</th>\n",
       "      <td>0.365624</td>\n",
       "      <td>Goal</td>\n",
       "    </tr>\n",
       "    <tr>\n",
       "      <th>2884</th>\n",
       "      <td>0.239232</td>\n",
       "      <td>Saved</td>\n",
       "    </tr>\n",
       "    <tr>\n",
       "      <th>3125</th>\n",
       "      <td>0.299464</td>\n",
       "      <td>Blocked</td>\n",
       "    </tr>\n",
       "    <tr>\n",
       "      <th>476</th>\n",
       "      <td>0.358401</td>\n",
       "      <td>Off T</td>\n",
       "    </tr>\n",
       "    <tr>\n",
       "      <th>2380</th>\n",
       "      <td>0.474537</td>\n",
       "      <td>Goal</td>\n",
       "    </tr>\n",
       "    <tr>\n",
       "      <th>2477</th>\n",
       "      <td>0.354161</td>\n",
       "      <td>Goal</td>\n",
       "    </tr>\n",
       "  </tbody>\n",
       "</table>\n",
       "</div>"
      ],
      "text/plain": [
       "      shot_statsbomb_xg shot_outcome_name\n",
       "3239           0.070257           Blocked\n",
       "3725           0.429342             Saved\n",
       "2559           0.251943             Saved\n",
       "3270           0.091991              Goal\n",
       "620            0.272687              Post\n",
       "2681           0.098995             Saved\n",
       "1382           0.290794             Saved\n",
       "1609           0.250879              Goal\n",
       "2938           0.462315              Goal\n",
       "1247           0.101378              Goal\n",
       "1109           0.365624              Goal\n",
       "2884           0.239232             Saved\n",
       "3125           0.299464           Blocked\n",
       "476            0.358401             Off T\n",
       "2380           0.474537              Goal\n",
       "2477           0.354161              Goal"
      ]
     },
     "execution_count": 43,
     "metadata": {},
     "output_type": "execute_result"
    }
   ],
   "source": [
    "Villa"
   ]
  }
 ],
 "metadata": {
  "kernelspec": {
   "display_name": "Python 3",
   "language": "python",
   "name": "python3"
  },
  "language_info": {
   "codemirror_mode": {
    "name": "ipython",
    "version": 3
   },
   "file_extension": ".py",
   "mimetype": "text/x-python",
   "name": "python",
   "nbconvert_exporter": "python",
   "pygments_lexer": "ipython3",
   "version": "3.7.6"
  }
 },
 "nbformat": 4,
 "nbformat_minor": 4
}
