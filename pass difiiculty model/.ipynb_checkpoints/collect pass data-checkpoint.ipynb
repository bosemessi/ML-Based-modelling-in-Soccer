{
 "cells": [
  {
   "cell_type": "code",
   "execution_count": 1,
   "metadata": {},
   "outputs": [],
   "source": [
    "import numpy as np\n",
    "import math\n",
    "import time\n",
    "import json\n",
    "import pandas as pd\n",
    "import requests\n",
    "from pandas import json_normalize\n",
    "import os\n",
    "import csv"
   ]
  },
  {
   "cell_type": "code",
   "execution_count": 2,
   "metadata": {},
   "outputs": [],
   "source": [
    "season_id = ['37','38','39','40','41','21','23','24','25','27','2']\n",
    "\n",
    "def load_file(season_id, getter=\"remote\", path = None):\n",
    "    resp = requests.get(f\"https://raw.githubusercontent.com/statsbomb/open-data/master/data/matches/11/{season_id}.json\")\n",
    "    season_dict = json.loads(resp.text)\n",
    "    season_df = json_normalize(season_dict, sep=\"_\")\n",
    "    return season_dict, season_df\n",
    "\n",
    "\n",
    "def load_match_file(match_id, getter=\"remote\", path = None):\n",
    "    resp = requests.get(f\"https://raw.githubusercontent.com/statsbomb/open-data/master/data/events/{match_id}.json\")\n",
    "    match_dict = json.loads(resp.text)\n",
    "    df = json_normalize(match_dict, sep=\"_\")\n",
    "    return match_dict, df\n",
    "def get_starters(match_dict, side=\"home\"):\n",
    "    lineups = match_dict[0][\"tactics\"][\"lineup\"] if side == \"home\" else match_dict[1][\"tactics\"][\"lineup\"]\n",
    "    return lineups\n",
    "# match_dict, df = load_match_file(69299, getter=\"remote\")\n",
    "# lineups = get_starters(match_dict, side=\"home\")\n",
    "# lineups\n",
    "match_id_list = []\n",
    "for i in season_id:\n",
    "    season_dict, season_df = load_file(i, getter=\"remote\")    \n",
    "    match_id_list.append(season_df.match_id.tolist())  \n",
    "matchlist = [item for sublist in match_id_list for item in sublist]"
   ]
  },
  {
   "cell_type": "code",
   "execution_count": 10,
   "metadata": {},
   "outputs": [
    {
     "data": {
      "text/plain": [
       "311"
      ]
     },
     "execution_count": 10,
     "metadata": {},
     "output_type": "execute_result"
    }
   ],
   "source": [
    "r = len(matchlist)\n",
    "r"
   ]
  },
  {
   "cell_type": "code",
   "execution_count": 8,
   "metadata": {},
   "outputs": [],
   "source": [
    "import sys\n",
    "import time\n",
    "\n",
    "def print_percent_done(index, total, bar_len=50, title='Please wait'):\n",
    "    '''\n",
    "    index is expected to be 0 based index. \n",
    "    0 <= index < total\n",
    "    '''\n",
    "    percent_done = (index+1)/total*100\n",
    "    percent_done = round(percent_done, 1)\n",
    "\n",
    "    done = round(percent_done/(100/bar_len))\n",
    "    togo = bar_len-done\n",
    "\n",
    "    done_str = '█'*int(done)\n",
    "    togo_str = '░'*int(togo)\n",
    "\n",
    "    print(f'\\t⏳{title}: [{done_str}{togo_str}] {percent_done}% done', end='\\r')\n",
    "\n",
    "    if round(percent_done) == 100:\n",
    "        print('\\t✅')"
   ]
  },
  {
   "cell_type": "code",
   "execution_count": 11,
   "metadata": {},
   "outputs": [
    {
     "name": "stdout",
     "output_type": "stream",
     "text": [
      "\t✅Please wait: [██████████████████████████████████████████████████] 99.7% done\n",
      "\t✅Please wait: [██████████████████████████████████████████████████] 100.0% done\n"
     ]
    }
   ],
   "source": [
    "passes_df = pd.DataFrame()\n",
    "for i in range(len(matchlist)):\n",
    "    match_dict, df = load_match_file(matchlist[i], getter=\"remote\")\n",
    "    passes=df.query(\"(type_name == 'Pass')&(team_name=='Barcelona')\\\n",
    "                   &(pass_type_name not in ['Free Kick', 'Corner', 'Throw-in', 'Kick Off'])\")\n",
    "    passes_df = passes_df.append(passes)\n",
    "    print_percent_done(i,r)"
   ]
  },
  {
   "cell_type": "code",
   "execution_count": 12,
   "metadata": {},
   "outputs": [
    {
     "data": {
      "text/plain": [
       "194504"
      ]
     },
     "execution_count": 12,
     "metadata": {},
     "output_type": "execute_result"
    }
   ],
   "source": [
    "len(passes_df)"
   ]
  },
  {
   "cell_type": "code",
   "execution_count": 13,
   "metadata": {},
   "outputs": [],
   "source": [
    "passes_df.to_csv('Passesfrom11seasons.csv')"
   ]
  },
  {
   "cell_type": "code",
   "execution_count": null,
   "metadata": {},
   "outputs": [],
   "source": []
  }
 ],
 "metadata": {
  "kernelspec": {
   "display_name": "Python 3",
   "language": "python",
   "name": "python3"
  },
  "language_info": {
   "codemirror_mode": {
    "name": "ipython",
    "version": 3
   },
   "file_extension": ".py",
   "mimetype": "text/x-python",
   "name": "python",
   "nbconvert_exporter": "python",
   "pygments_lexer": "ipython3",
   "version": "3.7.6"
  }
 },
 "nbformat": 4,
 "nbformat_minor": 4
}
