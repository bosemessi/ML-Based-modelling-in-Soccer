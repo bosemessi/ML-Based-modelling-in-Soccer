{
 "cells": [
  {
   "cell_type": "code",
   "execution_count": 259,
   "metadata": {
    "code_folding": [
     0
    ]
   },
   "outputs": [],
   "source": [
    "#imports\n",
    "import numpy as np\n",
    "import math\n",
    "import time\n",
    "import json\n",
    "import pandas as pd\n",
    "import requests\n",
    "from pandas import json_normalize\n",
    "import os\n",
    "import csv\n",
    "pd.options.mode.chained_assignment = None\n",
    "import matplotlib.pyplot as plt\n",
    "import seaborn as sns"
   ]
  },
  {
   "cell_type": "code",
   "execution_count": 67,
   "metadata": {
    "code_folding": [
     0
    ]
   },
   "outputs": [],
   "source": [
    "def season(i):\n",
    "    df = pd.read_csv(\"Season\"+str(i)+\".csv\", dtype='unicode')\n",
    "    return df"
   ]
  },
  {
   "cell_type": "code",
   "execution_count": 77,
   "metadata": {
    "code_folding": [
     0
    ]
   },
   "outputs": [],
   "source": [
    "def locationextractor(df,typename):\n",
    "    if(typename=='pass'):\n",
    "        df = df.query(\"(type_name=='Pass')&(team_name=='Barcelona')&\\\n",
    "        (pass_outcome_name not in ['Incomplete','Injury Clearance','Pass Offside','Out','Unknown'])\\\n",
    "        &(pass_type_name not in ['Free Kick', 'Corner', 'Throw-in', 'Kick Off'])\").reset_index(drop=True)\n",
    "    else:\n",
    "        df = df.query(\"(type_name=='Carry')&(team_name=='Barcelona')\").reset_index(drop=True)\n",
    "    type_name_end = typename+'_end_location'\n",
    "    df['location'] = df['location'].astype(str).str.strip('[]')\n",
    "    df['y_loc'] = df['location'].str.split(', ').str.get(0).str.strip().astype(float)\n",
    "    df['x_loc'] = df['location'].str.split(', ').str.get(1).str.strip().astype(float)\n",
    "    df[type_name_end] = df[type_name_end].astype(str).str.strip('[]')\n",
    "    df['end_y_loc'] = df[type_name_end].str.split(', ').str.get(0).str.strip().astype(float)\n",
    "    df['end_x_loc'] = df[type_name_end].str.split(', ').str.get(1).str.strip().astype(float)\n",
    "    return df"
   ]
  },
  {
   "cell_type": "code",
   "execution_count": 104,
   "metadata": {
    "code_folding": [
     0
    ]
   },
   "outputs": [],
   "source": [
    "def season_location(df):\n",
    "    locs = np.zeros(16)\n",
    "    locs[0] = len(df.query(\"(y_loc<=40)&(end_y_loc<=40)\"))\n",
    "    locs[1] = len(df.query(\"(y_loc<=40)&(end_y_loc<80)&(end_y_loc>40)\"))\n",
    "    locs[2] = len(df.query(\"(y_loc<=40)&(end_y_loc>=80)\"))\n",
    "    locs[3] = len(df.query(\"(y_loc>40)&(y_loc<80)&(end_y_loc<=40)\"))\n",
    "    locs[4] = len(df.query(\"(y_loc>40)&(y_loc<80)&(end_y_loc<80)&(end_y_loc>40)\"))\n",
    "    locs[5] = len(df.query(\"(y_loc>40)&(y_loc<80)&(end_y_loc>=80)\"))\n",
    "    locs[6] = len(df.query(\"(end_y_loc<=40)&(y_loc>=80)\"))\n",
    "    locs[7] = len(df.query(\"(y_loc>=80)&(end_y_loc<80)&(end_y_loc>40)\"))\n",
    "    locs[8] = len(df.query(\"(y_loc>=80)&(end_y_loc>=80)\"))\n",
    "    locs[9] = len(df.query(\"(y_loc<=40)&(end_y_loc>=102)&(end_y_loc<=120)&(end_x_loc>=18)&(end_x_loc<=62)\"))\n",
    "    locs[10] = len(df.query(\"(y_loc<80)&(y_loc>40)&(end_y_loc>=102)&(end_y_loc<=120)&(end_x_loc>=18)&(end_x_loc<=62)\"))\n",
    "    locs[11] = len(df.query(\"(y_loc>=80)&(end_y_loc>=102)&(end_y_loc<=120)&(end_x_loc>=18)&(end_x_loc<=62)\"))\n",
    "    locs[12] = len(df.query(\"(x_loc>=18)&(x_loc<=62)&(y_loc>80)&(y_loc<102)&\\\n",
    "                            (end_y_loc>=102)&(end_y_loc<=120)&(end_x_loc>=18)&(end_x_loc<=62)\"))\n",
    "    locs[13] = len(df.query(\"(x_loc>=18)&(x_loc<=62)&(y_loc>80)&(y_loc<102)&\\\n",
    "                            (end_y_loc>=80)&(end_y_loc<=120)&((end_x_loc<18)or(end_x_loc>62))\"))\n",
    "    locs[14] = len(df.query(\"(x_loc>=18)&(x_loc<=62)&(y_loc>80)&(y_loc<102)&(end_y_loc<80)\"))\n",
    "    locs[15] = len(df)\n",
    "    return locs"
   ]
  },
  {
   "cell_type": "code",
   "execution_count": 105,
   "metadata": {
    "code_folding": [
     0
    ]
   },
   "outputs": [],
   "source": [
    "#Calculating for all seasons\n",
    "passloc = []\n",
    "carryloc = []\n",
    "\n",
    "for i in range(11):\n",
    "    df = season(i)\n",
    "    passdf = locationextractor(df,'pass')\n",
    "    carrydf = locationextractor(df,'carry')\n",
    "    passloc.append(season_location(passdf))\n",
    "    carryloc.append(season_location(carrydf))\n",
    "    \n",
    "passloc = np.asarray(passloc)\n",
    "carryloc = np.asarray(carryloc)"
   ]
  },
  {
   "cell_type": "code",
   "execution_count": 118,
   "metadata": {
    "code_folding": [
     0
    ]
   },
   "outputs": [],
   "source": [
    "#zone dataframes\n",
    "zone2zone = ['D2D','D2M','D2F','M2D','M2M','M2F','F2D','F2M','F2F','D2P','M2P','F2P','ZF2P','ZF2W','ZF2B','Total']\n",
    "seasonspassdf = pd.DataFrame(data=passloc,columns=zone2zone)\n",
    "seasonscarrydf = pd.DataFrame(data=carryloc,columns=zone2zone)\n",
    "seasons = ['08/09','09/10','10/11','11/12','12/13','13/14','14/15','15/16','16/17','17/18','18/19']"
   ]
  },
  {
   "cell_type": "code",
   "execution_count": 254,
   "metadata": {
    "code_folding": [
     0
    ]
   },
   "outputs": [],
   "source": [
    "# Fraction plots\n",
    "# fig, axs = plt.subplots(2,2,figsize=(20,15))\n",
    "# ax=axs[0,0]\n",
    "# ax.plot(seasons,(seasonspassdf['D2M']+seasonspassdf['D2F'])/(seasonspassdf['D2D']+seasonspassdf['D2M']+seasonspassdf['D2F']),\\\n",
    "#     seasons,(seasonscarrydf['D2M']+seasonscarrydf['D2F'])/(seasonscarrydf['D2D']+seasonscarrydf['D2M']+seasonscarrydf['D2F']))\n",
    "# ax.set_ylabel(\"Fraction of passes/carries\")\n",
    "# ax.set_xticklabels(seasons,rotation=90)\n",
    "# ax.legend((\"Passes\", \"Carries\"))\n",
    "# ax.set_title(\"Fraction of passes/carries starting from defensive 3rd, ending in the middle/final 3rd\")\n",
    "# ax=axs[0,1]\n",
    "# ax.plot(seasons,(seasonspassdf['M2F'])/(seasonspassdf['M2D']+seasonspassdf['M2M']+seasonspassdf['M2F']),\\\n",
    "#         seasons,(seasonscarrydf['M2F'])/(seasonscarrydf['M2D']+seasonscarrydf['M2M']+seasonscarrydf['M2F']))\n",
    "# ax.set_ylabel(\"Fraction of passes/carries\")\n",
    "# ax.set_xticklabels(seasons,rotation=90)\n",
    "# ax.legend((\"Passes\", \"Carries\"))\n",
    "# ax.set_title(\"Fraction of passes/carries starting from middle 3rd, ending in the final 3rd\")\n",
    "# ax=axs[1,0]\n",
    "# ax.plot(seasons,(seasonspassdf['F2P'])/(seasonspassdf['F2D']+seasonspassdf['F2M']+seasonspassdf['F2F']),\\\n",
    "#         seasons,(seasonscarrydf['F2P'])/(seasonscarrydf['F2D']+seasonscarrydf['F2M']+seasonscarrydf['F2F']))\n",
    "# ax.set_ylabel(\"Fraction of passes/carries\")\n",
    "# ax.set_xticklabels(seasons,rotation=90)\n",
    "# ax.legend((\"Passes\", \"Carries\"))\n",
    "# ax.set_title(\"Fraction of total passes/carries starting from final 3rd, ending in opposition box\")\n",
    "# ax=axs[1,1]\n",
    "# ax.plot(seasons,(seasonspassdf['ZF2P'])/(seasonspassdf['ZF2P']+seasonspassdf['ZF2W']+seasonspassdf['ZF2B']),\\\n",
    "#         seasons,(seasonscarrydf['ZF2P'])/(seasonscarrydf['ZF2P']+seasonscarrydf['ZF2W']+seasonscarrydf['ZF2B']))\n",
    "# ax.set_ylabel(\"Fraction of passes/carries\")\n",
    "# ax.set_xticklabels(seasons,rotation=90)\n",
    "# ax.legend((\"Passes\", \"Carries\"))\n",
    "# ax.set_title(\"Fraction of total passes/carries starting from Zone 14, ending in opposition box\")\n",
    "# fig.savefig(\"Fractions.png\")"
   ]
  },
  {
   "cell_type": "code",
   "execution_count": 167,
   "metadata": {
    "code_folding": [
     0
    ]
   },
   "outputs": [],
   "source": [
    "def zone14(i):\n",
    "    df = season(i)\n",
    "    df['time'] = df['minute'].astype(float)*60+df['second'].astype(float)\n",
    "    df['possession'] = df['possession'].astype(float) + df.match_id.astype(float)*1000\n",
    "    passdf = locationextractor(df,'pass')\n",
    "    carrydf = locationextractor(df,'carry')\n",
    "    passdf = passdf[['possession','time','x_loc','y_loc','end_x_loc','end_y_loc']]\n",
    "    carrydf = carrydf[['possession','time','x_loc','y_loc','end_x_loc','end_y_loc']]\n",
    "    movedf = passdf.copy()\n",
    "    movedf = movedf.append(carrydf)\n",
    "    movedf = movedf.query(\"(x_loc>=18)&(x_loc<=62)&(y_loc>80)&(y_loc<102)&\\\n",
    "                            (end_y_loc>=102)&(end_y_loc<=120)&(end_x_loc>=18)&(end_x_loc<=62)\")\n",
    "    poss = movedf.possession.unique().tolist()\n",
    "    counter = 0\n",
    "    for p in poss:\n",
    "        time1 = movedf.query(\"(possession==@p)\")['time'].unique().tolist()\n",
    "        for t in time1:\n",
    "            temp = df.query(\"(possession==@p)&(time>@t)&(time<(@t+2))\")\n",
    "            if('Shot' in temp.type_name.unique().tolist()):\n",
    "                counter = counter+1\n",
    "    return len(movedf),counter"
   ]
  },
  {
   "cell_type": "code",
   "execution_count": 178,
   "metadata": {
    "code_folding": [
     0
    ]
   },
   "outputs": [],
   "source": [
    "def pc2p(i):\n",
    "    df = season(i)\n",
    "    df['time'] = df['minute'].astype(float)*60+df['second'].astype(float)\n",
    "    df['possession'] = df['possession'].astype(float) + df.match_id.astype(float)*1000\n",
    "    passdf = locationextractor(df,'pass')\n",
    "    carrydf = locationextractor(df,'carry')\n",
    "    passdf = passdf[['possession','time','x_loc','y_loc','end_x_loc','end_y_loc']]\n",
    "    carrydf = carrydf[['possession','time','x_loc','y_loc','end_x_loc','end_y_loc']]\n",
    "    movedf = passdf.copy()\n",
    "    movedf = movedf.append(carrydf)\n",
    "    movedf = movedf.query(\"(end_y_loc>=102)&(end_y_loc<=120)&(end_x_loc>=18)&(end_x_loc<=62)\")\n",
    "    poss = movedf.possession.unique().tolist()\n",
    "    counter = 0\n",
    "    for p in poss:\n",
    "        time1 = movedf.query(\"(possession==@p)\")['time'].unique().tolist()\n",
    "        for t in time1:\n",
    "            temp = df.query(\"(possession==@p)&(time>@t)&(time<(@t+2))\")\n",
    "            if('Shot' in temp.type_name.unique().tolist()):\n",
    "                counter = counter+1\n",
    "    return len(movedf),counter"
   ]
  },
  {
   "cell_type": "code",
   "execution_count": 173,
   "metadata": {
    "code_folding": [
     0
    ]
   },
   "outputs": [],
   "source": [
    "#Zone 14 productivity\n",
    "zone14len = []\n",
    "immediateshots = []\n",
    "\n",
    "for i in range(11):\n",
    "    l1,l2 = zone14(i)\n",
    "    zone14len.append(l1)\n",
    "    immediateshots.append(l2)\n",
    "    \n",
    "zone14len = np.asarray(zone14len)\n",
    "immediateshots = np.asarray(immediateshots)"
   ]
  },
  {
   "cell_type": "code",
   "execution_count": 179,
   "metadata": {
    "code_folding": [
     0
    ]
   },
   "outputs": [],
   "source": [
    "# All passes and carries to penalty area\n",
    "total2p = []\n",
    "immshots = []\n",
    "\n",
    "for i in range(11):\n",
    "    l1,l2 = pc2p(i)\n",
    "    total2p.append(l1)\n",
    "    immshots.append(l2)\n",
    "    \n",
    "total2p = np.asarray(total2p)\n",
    "immshots = np.asarray(immshots)"
   ]
  },
  {
   "cell_type": "code",
   "execution_count": 183,
   "metadata": {
    "code_folding": [
     0
    ]
   },
   "outputs": [],
   "source": [
    "# Productivity upon reaching penalty area\n",
    "# fig, ax = plt.subplots(figsize=(10,6))\n",
    "# ax.plot(seasons,[immediateshots[i]/zone14len[i] for i in range(len(zone14len))],\n",
    "#        seasons,[immshots[i]/total2p[i] for i in range(len(total2p))])\n",
    "# ax.set_ylabel(\"Fraction of passes/carries resulting in shots\")\n",
    "# ax.set_xticklabels(seasons,rotation=90)\n",
    "# ax.legend((\"Origination from zone 14\",\"Originating from anywhere\"))\n",
    "# ax.set_title(\"Fraction of passes/carries to penalty area, leading to shot within 2 seconds\")\n",
    "# fig.savefig(\"PenaltyArea.png\")"
   ]
  },
  {
   "cell_type": "code",
   "execution_count": 186,
   "metadata": {
    "code_folding": [
     0
    ]
   },
   "outputs": [],
   "source": [
    "def timetopenalty(i):\n",
    "    df = season(i)\n",
    "    df['time'] = df['minute'].astype(float)*60+df['second'].astype(float)\n",
    "    df['possession'] = df['possession'].astype(float) + df.match_id.astype(float)*1000\n",
    "    passdf = locationextractor(df,'pass')\n",
    "    carrydf = locationextractor(df,'carry')\n",
    "    passdf = passdf[['possession','time','x_loc','y_loc','end_x_loc','end_y_loc']]\n",
    "    carrydf = carrydf[['possession','time','x_loc','y_loc','end_x_loc','end_y_loc']]\n",
    "    movedf = passdf.copy()\n",
    "    movedf = movedf.append(carrydf)\n",
    "    poss = movedf.possession.unique().tolist()\n",
    "    def3rd = []\n",
    "    mid3rd = []\n",
    "    for p in poss:\n",
    "        uniquep = movedf.query(\"(possession==@p)\")\n",
    "        if(uniquep.y_loc.tolist()[0]<=40):\n",
    "            time1 = uniquep.time.unique().tolist()[0]\n",
    "            temp = uniquep.query(\"(end_y_loc>=102)&(end_y_loc<=120)&(end_x_loc>=18)&(end_x_loc<=62)\").time.tolist()\n",
    "            if(temp!=[]):\n",
    "                time2 = temp[0]\n",
    "                def3rd.append(time2-time1)\n",
    "        elif((uniquep.y_loc.tolist()[0]>40)&(uniquep.y_loc.tolist()[0]<80)):\n",
    "            time3 = uniquep.time.unique().tolist()[0]\n",
    "            temp = uniquep.query(\"(end_y_loc>=102)&(end_y_loc<=120)&(end_x_loc>=18)&(end_x_loc<=62)\").time.tolist()\n",
    "            if(temp!=[]):\n",
    "                time4 = temp[0]\n",
    "                mid3rd.append(time4-time3)\n",
    "    return np.median(def3rd),np.median(mid3rd)"
   ]
  },
  {
   "cell_type": "code",
   "execution_count": 187,
   "metadata": {
    "code_folding": [
     0
    ]
   },
   "outputs": [],
   "source": [
    "#Time spent to reach penalty area from def and mid 3rds\n",
    "def3rd = []\n",
    "mid3rd = []\n",
    "\n",
    "for i in range(11):\n",
    "    l1,l2 = timetopenalty(i)\n",
    "    def3rd.append(l1)\n",
    "    mid3rd.append(l2)\n",
    "    \n",
    "def3rd = np.asarray(def3rd)\n",
    "mid3rd = np.asarray(mid3rd)"
   ]
  },
  {
   "cell_type": "code",
   "execution_count": 190,
   "metadata": {
    "code_folding": [
     0
    ]
   },
   "outputs": [],
   "source": [
    "# fig, ax = plt.subplots(figsize=(10,6))\n",
    "# ax.plot(seasons,def3rd,seasons,mid3rd)\n",
    "# ax.set_ylabel(\"Median Time\")\n",
    "# ax.set_xticklabels(seasons,rotation=90)\n",
    "# ax.legend((\"From Def 3rd\",\"From Mid 3rd\"))\n",
    "# ax.set_title(\"Median time to reach penalty area when possessions start from def or mid 3rds\")\n",
    "# fig.savefig(\"Timing.png\")"
   ]
  },
  {
   "cell_type": "code",
   "execution_count": 202,
   "metadata": {
    "code_folding": [
     0
    ]
   },
   "outputs": [],
   "source": [
    "def counterattacks(i):\n",
    "    df = season(i)\n",
    "    df['possession'] = df['possession'].astype(float) + df.match_id.astype(float)*1000\n",
    "    counters = df.query(\"(possession_team_name=='Barcelona')&(play_pattern_name=='From Counter')\")\n",
    "    shotdf = df.query(\"(team_name=='Barcelona')&(type_name=='Shot')\")\n",
    "    countershots = len(shotdf.query(\"(play_pattern_name=='From Counter')\"))\n",
    "    return countershots,len(counters.possession.unique().tolist())"
   ]
  },
  {
   "cell_type": "code",
   "execution_count": 203,
   "metadata": {
    "code_folding": [
     0
    ]
   },
   "outputs": [],
   "source": [
    "#Shots and counter-attack shots\n",
    "countershots = []\n",
    "counters = []\n",
    "\n",
    "for i in range(11):\n",
    "    l1,l2 = counterattacks(i)\n",
    "    countershots.append(l1)\n",
    "    counters.append(l2)\n",
    "    \n",
    "countershots = np.asarray(countershots)\n",
    "counters = np.asarray(counters)"
   ]
  },
  {
   "cell_type": "code",
   "execution_count": 213,
   "metadata": {},
   "outputs": [],
   "source": [
    "games=[31, 35, 33, 37, 32, 31, 38, 33, 34, 36, 34]"
   ]
  },
  {
   "cell_type": "code",
   "execution_count": 212,
   "metadata": {
    "code_folding": [
     0
    ]
   },
   "outputs": [],
   "source": [
    "# fig, ax = plt.subplots(figsize=(10,6))\n",
    "# ax.plot(seasons,[counters[i]/games[i] for i in range(11)],seasons,[countershots[i]/games[i] for i in range(11)])\n",
    "# ax.set_ylabel(\"Counters per 90\")\n",
    "# ax.set_xticklabels(seasons,rotation=90)\n",
    "# ax.set_title(\"Counter-attacking over the seasons\")\n",
    "# ax.legend((\"Counters per 90\",\"Counters per 90 resulting in shots\"))\n",
    "# fig.savefig(\"Counterattacks.png\")"
   ]
  },
  {
   "cell_type": "code",
   "execution_count": 251,
   "metadata": {
    "code_folding": [
     0
    ]
   },
   "outputs": [],
   "source": [
    "def counterpressure(i):\n",
    "    df = season(i)\n",
    "    df['time'] = df['minute'].astype(float)*60+df['second'].astype(float)\n",
    "    df['possession'] = df['possession'].astype(float) + df.match_id.astype(float)*1000\n",
    "    cpdf = df.query(\"(possession_team_name!='Barcelona')&(counterpress=='True')\")\n",
    "    successp = 0.0\n",
    "    shotp = 0.0\n",
    "    t_elap = []\n",
    "    for k, row in cpdf.iterrows():\n",
    "        t1 = row['time']\n",
    "        tp6 = t1+6\n",
    "        nextdf = df[(df.time>=t1)&(df.time <= tp6)]\n",
    "        if('Barcelona' in nextdf.possession_team_name.tolist()):\n",
    "            successp = successp + 1.0\n",
    "            t2 = nextdf.query(\"(possession_team_name=='Barcelona')\")['time'].unique().tolist()[0]\n",
    "            newposs = nextdf.query(\"(possession_team_name=='Barcelona')\")['possession'].unique().tolist()[0]\n",
    "            shotcp = df.query(\"(team_name=='Barcelona')&(type_name=='Shot')&(time>@t2)&(time<@t2+7)\")\n",
    "            shotdf = df.query(\"(possession==@newposs)&(type_name=='Shot')&(team_name=='Barcelona')\")\n",
    "            if(len(shotcp)>0):\n",
    "                shotp = shotp + 1.0\n",
    "            if(len(shotdf)>0):\n",
    "                t3 = shotdf.time.unique().tolist()[0]\n",
    "                t_elap.append(t3-t2)\n",
    "    return successp, shotp, t_elap"
   ]
  },
  {
   "cell_type": "code",
   "execution_count": 252,
   "metadata": {
    "code_folding": [
     0
    ]
   },
   "outputs": [],
   "source": [
    "#Counterpressure productivity\n",
    "cp = []\n",
    "cpshot = []\n",
    "t_elap = []\n",
    "\n",
    "for i in range(11):\n",
    "    l1,l2,l3 = counterpressure(i)\n",
    "    cp.append(l1)\n",
    "    cpshot.append(l2)\n",
    "    t_elap.append(l3)\n",
    "    \n",
    "cp = np.asarray(cp)\n",
    "cpshot = np.asarray(cpshot)\n",
    "t_elap = np.asarray(t_elap)"
   ]
  },
  {
   "cell_type": "code",
   "execution_count": 258,
   "metadata": {
    "code_folding": [
     0
    ]
   },
   "outputs": [],
   "source": [
    "# fig, ax = plt.subplots(figsize=(10,6))\n",
    "# ax.plot(seasons,[cpshot[i]/cp[i] for i in range(11)])\n",
    "# ax.set_ylabel(\"Successful Counter pressures Fraction\")\n",
    "# ax.set_xticklabels(seasons,rotation=90)\n",
    "# ax.set_title(\"Fraction of successful counter pressing leading to immediate shots\")\n",
    "# fig.savefig(\"Counterpress.png\")"
   ]
  },
  {
   "cell_type": "code",
   "execution_count": null,
   "metadata": {},
   "outputs": [],
   "source": []
  }
 ],
 "metadata": {
  "kernelspec": {
   "display_name": "Python 3",
   "language": "python",
   "name": "python3"
  },
  "language_info": {
   "codemirror_mode": {
    "name": "ipython",
    "version": 3
   },
   "file_extension": ".py",
   "mimetype": "text/x-python",
   "name": "python",
   "nbconvert_exporter": "python",
   "pygments_lexer": "ipython3",
   "version": "3.7.6"
  }
 },
 "nbformat": 4,
 "nbformat_minor": 4
}
