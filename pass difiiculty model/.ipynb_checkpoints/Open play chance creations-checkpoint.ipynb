{
 "cells": [
  {
   "cell_type": "code",
   "execution_count": 139,
   "metadata": {
    "code_folding": []
   },
   "outputs": [],
   "source": [
    "# Imports\n",
    "import numpy as np\n",
    "import math\n",
    "import time\n",
    "import json\n",
    "import pandas as pd\n",
    "import requests\n",
    "from pandas import json_normalize\n",
    "import os\n",
    "import csv\n",
    "import matplotlib.pyplot as plt\n",
    "from pywaffle import Waffle "
   ]
  },
  {
   "cell_type": "code",
   "execution_count": 20,
   "metadata": {
    "code_folding": [
     0
    ]
   },
   "outputs": [],
   "source": [
    "def read_df(i):\n",
    "    df = pd.read_csv(\"Season\"+str(i)+\".csv\",encoding = 'utf-8-sig',low_memory=False)\n",
    "    return df"
   ]
  },
  {
   "cell_type": "code",
   "execution_count": 29,
   "metadata": {},
   "outputs": [],
   "source": [
    "playerlist = ['Lionel Andrés Messi Cuccittini','David Villa Sánchez','Pedro Eliezer Rodríguez Ledesma']\n",
    "def plist(df):\n",
    "    playerlist = df.query(\"(team_name=='Barcelona')\").player_name.dropna().unique().tolist()\n",
    "    return playerlist"
   ]
  },
  {
   "cell_type": "code",
   "execution_count": 120,
   "metadata": {},
   "outputs": [],
   "source": [
    "season = ['08/09','09/10','10/11','11/12','12/13','13/14','14/15','15/16','16/17','17/18','18/19']"
   ]
  },
  {
   "cell_type": "code",
   "execution_count": 59,
   "metadata": {
    "code_folding": []
   },
   "outputs": [],
   "source": [
    "def rankchances(i):\n",
    "    df = read_df(i)\n",
    "    playerlist = plist(df)\n",
    "    totalchances = []\n",
    "    throughballs = []\n",
    "    crosses = []\n",
    "    cutbacks = []\n",
    "    others = []\n",
    "    for p in playerlist:\n",
    "        pdf=df.query(\"(type_name == 'Pass')&(player_name==@p)&\\\n",
    "                (pass_type_name not in ['Free Kick', 'Corner', 'Throw-in', 'Kick Off'])&\\\n",
    "                ((pass_shot_assist==True)or(pass_goal_assist==True))\")\n",
    "        tballs = len(pdf[pdf.pass_technique_name=='Through Ball'])\n",
    "        crs = len(pdf[pdf.pass_cross==True])\n",
    "        cbacks = len(pdf[pdf.pass_cut_back==True])\n",
    "        oth = len(pdf) - tballs - crs - cbacks\n",
    "        totalchances.append(len(pdf))\n",
    "        throughballs.append(tballs)\n",
    "        crosses.append(crs)\n",
    "        cutbacks.append(cbacks)\n",
    "        others.append(oth)\n",
    "    chancedf = pd.DataFrame()\n",
    "    chancedf['players'] = playerlist\n",
    "    chancedf['open_play'] = totalchances\n",
    "    chancedf['throughball'] = throughballs\n",
    "    chancedf['cross'] = crosses\n",
    "    chancedf['cutback'] = cutbacks\n",
    "    chancedf['others'] = others\n",
    "    chancedf = chancedf.sort_values(by=['open_play'],ascending=False)[:10].reset_index(drop=True).transpose()\n",
    "    return chancedf"
   ]
  },
  {
   "cell_type": "code",
   "execution_count": 154,
   "metadata": {},
   "outputs": [],
   "source": [
    "def waffleplotter(i):\n",
    "    chancedf = rankchances(i)\n",
    "    fig = plt.figure(FigureClass=Waffle,values=chancedf[0].tolist()[2:6],\n",
    "                     rows=10,title={'label':chancedf[0].tolist()[0]+'\\n'+\n",
    "                                    'Season: '+season[i]+'\\n'+\n",
    "                                    \" Total chances: \"+str(chancedf[0].tolist()[1])},\n",
    "                    legend = {'labels' : [\"Throughballs\",\"Crosses\",\"Cutbacks\",\"Others\"],\n",
    "                    'loc': 'upper left',\n",
    "                    'bbox_to_anchor': (1.3, 1),\n",
    "                    'fontsize': 8\n",
    "            })\n",
    "    filesavename = 'topchances'+str(i)+'.png'\n",
    "    plt.savefig(filesavename)\n",
    "    plt.close(\"all\")"
   ]
  },
  {
   "cell_type": "code",
   "execution_count": 155,
   "metadata": {},
   "outputs": [],
   "source": [
    "for i in range(11):\n",
    "    waffleplotter(i)"
   ]
  },
  {
   "cell_type": "code",
   "execution_count": null,
   "metadata": {},
   "outputs": [],
   "source": []
  }
 ],
 "metadata": {
  "kernelspec": {
   "display_name": "Python 3",
   "language": "python",
   "name": "python3"
  },
  "language_info": {
   "codemirror_mode": {
    "name": "ipython",
    "version": 3
   },
   "file_extension": ".py",
   "mimetype": "text/x-python",
   "name": "python",
   "nbconvert_exporter": "python",
   "pygments_lexer": "ipython3",
   "version": "3.7.6"
  }
 },
 "nbformat": 4,
 "nbformat_minor": 4
}
