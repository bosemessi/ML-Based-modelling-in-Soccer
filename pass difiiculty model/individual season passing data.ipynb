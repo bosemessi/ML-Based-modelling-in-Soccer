{
 "cells": [
  {
   "cell_type": "code",
   "execution_count": 9,
   "metadata": {},
   "outputs": [],
   "source": [
    "import numpy as np\n",
    "import math\n",
    "import time\n",
    "import json\n",
    "import pandas as pd\n",
    "import requests\n",
    "from pandas import json_normalize\n",
    "import os\n",
    "import csv"
   ]
  },
  {
   "cell_type": "code",
   "execution_count": 10,
   "metadata": {},
   "outputs": [],
   "source": [
    "season_id = ['22','26','1','4']\n",
    "\n",
    "def load_file(season_id, getter=\"remote\", path = None):\n",
    "    resp = requests.get(f\"https://raw.githubusercontent.com/statsbomb/open-data/master/data/matches/11/{season_id}.json\")\n",
    "    season_dict = json.loads(resp.text)\n",
    "    season_df = json_normalize(season_dict, sep=\"_\")\n",
    "    return season_dict, season_df\n",
    "\n",
    "\n",
    "def load_match_file(match_id, getter=\"remote\", path = None):\n",
    "    resp = requests.get(f\"https://raw.githubusercontent.com/statsbomb/open-data/master/data/events/{match_id}.json\")\n",
    "    match_dict = json.loads(resp.text)\n",
    "    df = json_normalize(match_dict, sep=\"_\")\n",
    "    return match_dict, df\n",
    "def get_starters(match_dict, side=\"home\"):\n",
    "    lineups = match_dict[0][\"tactics\"][\"lineup\"] if side == \"home\" else match_dict[1][\"tactics\"][\"lineup\"]\n",
    "    return lineups\n",
    "# match_dict, df = load_match_file(69299, getter=\"remote\")\n",
    "# lineups = get_starters(match_dict, side=\"home\")\n",
    "# lineups\n",
    "match_id_list = []\n",
    "for i in season_id:\n",
    "    season_dict, season_df = load_file(i, getter=\"remote\")    \n",
    "    match_id_list.append(season_df.match_id.tolist())  \n",
    "# matchlist = [item for sublist in match_id_list for item in sublist]"
   ]
  },
  {
   "cell_type": "code",
   "execution_count": 18,
   "metadata": {},
   "outputs": [
    {
     "name": "stdout",
     "output_type": "stream",
     "text": [
      "16215\n",
      "16196\n",
      "16205\n",
      "16131\n",
      "16149\n",
      "16265\n",
      "16086\n",
      "16157\n",
      "16317\n",
      "16275\n",
      "16289\n",
      "16190\n",
      "15973\n",
      "15946\n",
      "15956\n",
      "16056\n",
      "16023\n",
      "16079\n",
      "16010\n",
      "16136\n",
      "16109\n",
      "16240\n",
      "16095\n",
      "16173\n",
      "16120\n",
      "16182\n",
      "15978\n",
      "16073\n",
      "15998\n",
      "16029\n",
      "16306\n",
      "15986\n",
      "16248\n",
      "16231\n"
     ]
    }
   ],
   "source": [
    "def func(i):\n",
    "    matchlist = match_id_list[i]\n",
    "    passes_df = pd.DataFrame()\n",
    "    for k in matchlist:\n",
    "        print(k)\n",
    "        match_dict, df = load_match_file(k, getter=\"remote\")\n",
    "        passes=df.query(\"(type_name == 'Pass')&(team_name=='Barcelona')\\\n",
    "                   &(pass_type_name not in ['Free Kick', 'Corner', 'Throw-in', 'Kick Off'])\")\n",
    "        passes_df = passes_df.append(passes)\n",
    "    return passes_df\n",
    "passes_df = func(3)\n",
    "passes_df.to_csv('Passesfrom201819.csv')"
   ]
  },
  {
   "cell_type": "code",
   "execution_count": null,
   "metadata": {},
   "outputs": [],
   "source": []
  }
 ],
 "metadata": {
  "kernelspec": {
   "display_name": "Python 3",
   "language": "python",
   "name": "python3"
  },
  "language_info": {
   "codemirror_mode": {
    "name": "ipython",
    "version": 3
   },
   "file_extension": ".py",
   "mimetype": "text/x-python",
   "name": "python",
   "nbconvert_exporter": "python",
   "pygments_lexer": "ipython3",
   "version": "3.7.6"
  }
 },
 "nbformat": 4,
 "nbformat_minor": 4
}
