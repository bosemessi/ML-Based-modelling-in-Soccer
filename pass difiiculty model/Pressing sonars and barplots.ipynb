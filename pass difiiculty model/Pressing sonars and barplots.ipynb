{
 "cells": [
  {
   "cell_type": "code",
   "execution_count": 1,
   "metadata": {
    "code_folding": [
     0
    ]
   },
   "outputs": [],
   "source": [
    "# Imports\n",
    "import numpy as np\n",
    "import math\n",
    "import time\n",
    "import json\n",
    "import pandas as pd\n",
    "import requests\n",
    "from pandas import json_normalize\n",
    "import os\n",
    "import csv\n",
    "import matplotlib.pyplot as plt\n",
    "import matplotlib.gridspec as gridspec"
   ]
  },
  {
   "cell_type": "code",
   "execution_count": 2,
   "metadata": {
    "code_folding": [
     0
    ]
   },
   "outputs": [],
   "source": [
    "def read_df(i):\n",
    "    df = pd.read_csv(\"Season\"+str(i)+\".csv\",encoding = 'utf-8-sig',low_memory=False)\n",
    "    return df"
   ]
  },
  {
   "cell_type": "code",
   "execution_count": 3,
   "metadata": {},
   "outputs": [],
   "source": [
    "season = ['08/09','09/10','10/11','11/12','12/13','13/14','14/15','15/16','16/17','17/18','18/19']"
   ]
  },
  {
   "cell_type": "code",
   "execution_count": 4,
   "metadata": {
    "code_folding": [
     0
    ]
   },
   "outputs": [],
   "source": [
    "def presses(i):\n",
    "    df = read_df(i)\n",
    "    totalmatches = len(df.match_id.dropna().unique().tolist())\n",
    "    press5 = len(df.query(\"(type_name=='Pressure')&(team_name=='Barcelona')&(minute<=5)\"))\n",
    "    press10 = len(df.query(\"(type_name=='Pressure')&(team_name=='Barcelona')&(minute>5)&(minute<=10)\"))\n",
    "    press15 = len(df.query(\"(type_name=='Pressure')&(team_name=='Barcelona')&(minute>10)&(minute<=15)\"))\n",
    "    press20 = len(df.query(\"(type_name=='Pressure')&(team_name=='Barcelona')&(minute>15)&(minute<=20)\"))\n",
    "    press25 = len(df.query(\"(type_name=='Pressure')&(team_name=='Barcelona')&(minute>20)&(minute<=25)\"))\n",
    "    press30 = len(df.query(\"(type_name=='Pressure')&(team_name=='Barcelona')&(minute>25)&(minute<=30)\"))\n",
    "    press35 = len(df.query(\"(type_name=='Pressure')&(team_name=='Barcelona')&(minute>30)&(minute<=35)\"))\n",
    "    press40 = len(df.query(\"(type_name=='Pressure')&(team_name=='Barcelona')&(minute>35)&(minute<=40)\"))\n",
    "    press45 = len(df.query(\"(type_name=='Pressure')&(team_name=='Barcelona')&(minute>40)&(minute<=45)\"))\n",
    "    press50 = len(df.query(\"(type_name=='Pressure')&(team_name=='Barcelona')&(minute>45)&(minute<=50)\"))\n",
    "    press55 = len(df.query(\"(type_name=='Pressure')&(team_name=='Barcelona')&(minute>50)&(minute<=55)\"))\n",
    "    press60 = len(df.query(\"(type_name=='Pressure')&(team_name=='Barcelona')&(minute>55)&(minute<=60)\"))\n",
    "    press65 = len(df.query(\"(type_name=='Pressure')&(team_name=='Barcelona')&(minute>60)&(minute<=65)\"))\n",
    "    press70 = len(df.query(\"(type_name=='Pressure')&(team_name=='Barcelona')&(minute>65)&(minute<=70)\"))\n",
    "    press75 = len(df.query(\"(type_name=='Pressure')&(team_name=='Barcelona')&(minute>70)&(minute<=75)\"))\n",
    "    press80 = len(df.query(\"(type_name=='Pressure')&(team_name=='Barcelona')&(minute>75)&(minute<=80)\"))\n",
    "    press85 = len(df.query(\"(type_name=='Pressure')&(team_name=='Barcelona')&(minute>80)&(minute<=85)\"))\n",
    "    press90 = len(df.query(\"(type_name=='Pressure')&(team_name=='Barcelona')&(minute>85)\"))\n",
    "    press = [press5,press10,press15,press20,press25,press30,press35,press40,press45,press50,press55,press60,\n",
    "            press65,press70,press75,press80,press85,press90]\n",
    "    return totalmatches,press"
   ]
  },
  {
   "cell_type": "code",
   "execution_count": 5,
   "metadata": {
    "code_folding": [
     0
    ]
   },
   "outputs": [],
   "source": [
    "# def radarplotter():\n",
    "#     tm = []\n",
    "#     ps = []\n",
    "#     for i in range(10):\n",
    "#         totalmatches,press = presses(i)\n",
    "#         tm.append(totalmatches)\n",
    "#         ps.append(press)\n",
    "#     N = len(ps[0])\n",
    "#     theta = np.linspace(0.0+2*np.pi/(2*N), 2 * np.pi+2*np.pi/(2*N), N, endpoint=False)\n",
    "#     width = 2*np.pi/N-0.05\n",
    "#     labels = ['0', '5', '10', '15', '20','25','30','35','40','45','50','55','60','65','70','75','80','85']\n",
    "#     fig = plt.figure(tight_layout=True,figsize=(20,60))\n",
    "#     gs = gridspec.GridSpec(5, 2)\n",
    "#     for i in range(10):\n",
    "#         radii = [ps[i][j]/tm[i] for j in range(N)]\n",
    "#         ax = fig.add_subplot(gs[i//2, i%2],projection='polar')\n",
    "#         ax.bar(theta, radii, width=width, bottom=0.0, color='magenta', alpha=0.5)\n",
    "#         ax.set_xticks(np.linspace(0.0, 2.0*np.pi, N, endpoint=False))\n",
    "#         ax.set_xticklabels(labels)\n",
    "#         ax.set_title('Barcelona Avg Pressing per game in season '+str(season[i]))\n",
    "#     fig.suptitle('The circular axis shows 5 minute intervals starting from 0'+'\\n'+\n",
    "#             'The interval from 85 to 0 is to be read as interval from minute 85 to 90'+'\\n'+\n",
    "#             'All added times have been discarded here'+'\\n'+\n",
    "#             'The radial axis shows the number of pressure events per game in a particular minute range'+'\\n'+\n",
    "#             'All data provided by Statsbomb')\n",
    "#     fig.savefig('pressurebefore1819')\n",
    "# ps = radarplotter()"
   ]
  },
  {
   "cell_type": "code",
   "execution_count": 6,
   "metadata": {
    "code_folding": [
     0
    ]
   },
   "outputs": [],
   "source": [
    "# totalmatches, press = presses(10)\n",
    "# N = len(press)\n",
    "# y_pos = np.arange(N)\n",
    "# labels = ['0', '5', '10', '15', '20','25','30','35','40','45','50','55','60','65','70','75','80','85']\n",
    "# radii = [press[i]/totalmatches for i in range(N)]\n",
    "# fig = plt.figure(figsize=(8,4),tight_layout=True)\n",
    "# ax = plt.subplot(111)\n",
    "# ax.bar(y_pos, radii, align='edge', color='lightcoral', alpha=0.5)\n",
    "# ax.set_xticks(y_pos)\n",
    "# ax.set_xticklabels(labels)\n",
    "# ax.set_xlabel('Minutes')\n",
    "# ax.set_ylabel('Avg pressures per game')\n",
    "# ax.set_ylim((0,14))\n",
    "# ax.set_title('Barcelona Pressures per game in every 5 minute intervals excluding added times'+'\\n'+\n",
    "#             'Season :'+str(season[10])+'\\n'+\n",
    "#             'All data provided by Statsbomb')\n",
    "# fig.savefig('pressure1819')"
   ]
  },
  {
   "cell_type": "code",
   "execution_count": 7,
   "metadata": {},
   "outputs": [],
   "source": [
    "# fig.savefig('pressure201819')"
   ]
  },
  {
   "cell_type": "code",
   "execution_count": 15,
   "metadata": {
    "code_folding": []
   },
   "outputs": [
    {
     "data": {
      "image/png": "[encoded data removed]",
      "text/plain": [
       "<Figure size 1080x288 with 2 Axes>"
      ]
     },
     "metadata": {
      "needs_background": "light"
     },
     "output_type": "display_data"
    }
   ],
   "source": [
    "def pressurebarchart():\n",
    "    tm = []\n",
    "    ps = []\n",
    "    for i in range(9,11):\n",
    "        totalmatches,press = presses(i)\n",
    "        tm.append(totalmatches)\n",
    "        ps.append(press)\n",
    "    N = len(ps[0])\n",
    "    y_pos = np.arange(N)\n",
    "    labels = ['0', '5', '10', '15', '20','25','30','35','40','45','50','55','60','65','70','75','80','85']\n",
    "    fig = plt.figure(constrained_layout=True,figsize=(15,4))\n",
    "    hr = [1]\n",
    "    wr = [1,1]\n",
    "    ny = len(hr)\n",
    "    nx = len(wr)\n",
    "    gs = gridspec.GridSpec(ny,nx, figure=fig,height_ratios=hr,width_ratios=wr,hspace=0.08, wspace=0.1)\n",
    "    for i in range(2):\n",
    "        radii = [ps[i][j]/tm[i] for j in range(N)]\n",
    "        ax = fig.add_subplot(gs[0, i%2])\n",
    "        ax.bar(y_pos, radii, align='edge', color='lightcoral', alpha=0.5)\n",
    "        ax.set_xticks(y_pos)\n",
    "        ax.set_xticklabels(labels)\n",
    "        ax.set_xlabel('Minutes')\n",
    "        ax.set_ylabel('Avg pressures per game')\n",
    "        ax.set_ylim((0,14))\n",
    "        ax.set_title('Season :'+str(season[9+i]))\n",
    "    fig.suptitle('Barcelona Pressures per game in every 5 minute intervals excluding added times'+'\\n'+\n",
    "            'All data provided by Statsbomb')\n",
    "    fig.savefig('pressureEV')\n",
    "pressurebarchart()"
   ]
  },
  {
   "cell_type": "code",
   "execution_count": null,
   "metadata": {},
   "outputs": [],
   "source": []
  }
 ],
 "metadata": {
  "kernelspec": {
   "display_name": "Python 3",
   "language": "python",
   "name": "python3"
  },
  "language_info": {
   "codemirror_mode": {
    "name": "ipython",
    "version": 3
   },
   "file_extension": ".py",
   "mimetype": "text/x-python",
   "name": "python",
   "nbconvert_exporter": "python",
   "pygments_lexer": "ipython3",
   "version": "3.7.6"
  }
 },
 "nbformat": 4,
 "nbformat_minor": 4
}
