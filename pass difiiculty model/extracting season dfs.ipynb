{
 "cells": [
  {
   "cell_type": "code",
   "execution_count": 1,
   "metadata": {},
   "outputs": [],
   "source": [
    "import numpy as np\n",
    "import math\n",
    "import time\n",
    "import json\n",
    "import pandas as pd\n",
    "import requests\n",
    "from pandas import json_normalize\n",
    "import os\n",
    "import csv\n",
    "pd.options.mode.chained_assignment = None"
   ]
  },
  {
   "cell_type": "code",
   "execution_count": 2,
   "metadata": {},
   "outputs": [],
   "source": [
    "season_id = ['41','21','22','23','24','25','26','27','2','1','4']\n",
    "\n",
    "def load_file(season_id, getter=\"remote\", path = None):\n",
    "    resp = requests.get(f\"https://raw.githubusercontent.com/statsbomb/open-data/master/data/matches/11/{season_id}.json\")\n",
    "    season_dict = json.loads(resp.text)\n",
    "    season_df = json_normalize(season_dict, sep=\"_\")\n",
    "    return season_dict, season_df\n",
    "\n",
    "\n",
    "def load_match_file(match_id, getter=\"remote\", path = None):\n",
    "    resp = requests.get(f\"https://raw.githubusercontent.com/statsbomb/open-data/master/data/events/{match_id}.json\")\n",
    "    match_dict = json.loads(resp.text)\n",
    "    df = json_normalize(match_dict, sep=\"_\")\n",
    "    return match_dict, df\n",
    "def get_starters(match_dict, side=\"home\"):\n",
    "    lineups = match_dict[0][\"tactics\"][\"lineup\"] if side == \"home\" else match_dict[1][\"tactics\"][\"lineup\"]\n",
    "    return lineups\n",
    "\n",
    "match_id_list = []\n",
    "for i in season_id:\n",
    "    season_dict, season_df = load_file(i, getter=\"remote\")    \n",
    "    match_id_list.append(season_df.match_id.tolist())  "
   ]
  },
  {
   "cell_type": "code",
   "execution_count": 3,
   "metadata": {},
   "outputs": [],
   "source": [
    "def func(i):\n",
    "    matchlist = match_id_list[i]\n",
    "    seasondf = pd.DataFrame()\n",
    "    for k in matchlist:\n",
    "        match_dict, df = load_match_file(k, getter=\"remote\")\n",
    "        df['match_id'] = [k for _ in range(len(df))]\n",
    "        seasondf = seasondf.append(df)\n",
    "    seasondf.to_csv('Season'+str(i)+'.csv')\n",
    "for i in range(len(match_id_list)):\n",
    "    func(i)"
   ]
  },
  {
   "cell_type": "code",
   "execution_count": null,
   "metadata": {},
   "outputs": [],
   "source": []
  }
 ],
 "metadata": {
  "kernelspec": {
   "display_name": "Python 3",
   "language": "python",
   "name": "python3"
  },
  "language_info": {
   "codemirror_mode": {
    "name": "ipython",
    "version": 3
   },
   "file_extension": ".py",
   "mimetype": "text/x-python",
   "name": "python",
   "nbconvert_exporter": "python",
   "pygments_lexer": "ipython3",
   "version": "3.7.6"
  }
 },
 "nbformat": 4,
 "nbformat_minor": 4
}
