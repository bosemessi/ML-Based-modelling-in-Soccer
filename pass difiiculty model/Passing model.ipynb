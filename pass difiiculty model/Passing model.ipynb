{
 "cells": [
  {
   "cell_type": "code",
   "execution_count": 1,
   "metadata": {},
   "outputs": [
    {
     "name": "stderr",
     "output_type": "stream",
     "text": [
      "C:\\Users\\bosem\\anaconda3\\lib\\site-packages\\sklearn\\utils\\deprecation.py:144: FutureWarning: The sklearn.ensemble.forest module is  deprecated in version 0.22 and will be removed in version 0.24. The corresponding classes / functions should instead be imported from sklearn.ensemble. Anything that cannot be imported from sklearn.ensemble is now part of the private API.\n",
      "  warnings.warn(message, FutureWarning)\n",
      "Using TensorFlow backend.\n"
     ]
    }
   ],
   "source": [
    "import numpy as np\n",
    "import math\n",
    "import matplotlib.pyplot as plt\n",
    "import matplotlib as mpl\n",
    "import matplotlib.mlab as mlab\n",
    "import time\n",
    "import json\n",
    "import pandas as pd\n",
    "import requests\n",
    "from pandas import json_normalize\n",
    "import os\n",
    "import csv\n",
    "pd.options.mode.chained_assignment = None\n",
    "import seaborn as sns\n",
    "import scikitplot as skplt\n",
    "import scipy  \n",
    "from scipy.cluster import hierarchy as hc\n",
    "from collections import defaultdict\n",
    "from rfpimp import *\n",
    "\n",
    "# Machine learning\n",
    "from sklearn import preprocessing, model_selection, svm, metrics\n",
    "from sklearn.model_selection import train_test_split, cross_val_predict, cross_val_score, GridSearchCV\n",
    "from sklearn.ensemble import RandomForestClassifier\n",
    "from sklearn.ensemble import ExtraTreesClassifier\n",
    "from sklearn.ensemble import GradientBoostingClassifier\n",
    "from sklearn.linear_model import LogisticRegression\n",
    "from sklearn.tree import DecisionTreeClassifier\n",
    "from xgboost import XGBClassifier\n",
    "from sklearn.utils import resample\n",
    "from sklearn.feature_selection import RFE\n",
    "from imblearn.over_sampling import SMOTE\n",
    "from collections import Counter\n",
    "\n",
    "from sklearn import preprocessing, model_selection, metrics\n",
    "from sklearn.model_selection import train_test_split, StratifiedKFold\n",
    "from sklearn.tree import DecisionTreeClassifier\n",
    "from sklearn.utils.class_weight import compute_class_weight\n",
    " \n",
    "from imblearn.over_sampling import SMOTENC\n",
    "\n",
    "\n",
    "from sklearn.preprocessing import StandardScaler \n",
    "from sklearn.decomposition import PCA\n",
    "\n",
    "from imblearn.under_sampling import TomekLinks\n",
    "from imblearn.under_sampling import EditedNearestNeighbours\n",
    "from imblearn.combine import SMOTETomek\n",
    "from imblearn.combine import SMOTEENN\n",
    "from sklearn.metrics import matthews_corrcoef\n",
    "from sklearn.metrics import brier_score_loss\n",
    "\n",
    "from sklearn.calibration import CalibratedClassifierCV, calibration_curve\n",
    "\n",
    "from imblearn.ensemble import BalancedRandomForestClassifier\n",
    "from sklearn.ensemble import AdaBoostClassifier\n",
    "from sklearn.datasets import make_classification\n",
    "\n",
    "\n",
    "from dtreeviz.trees import *\n",
    " \n",
    "# Then run the code below if you get an error telling you that graphviz isn't in your system path (Windows users)\n",
    "# https://stackoverflow.com/a/44625895\n",
    "import os\n",
    "your_graphviz_install_directory = 'C:/Users/bosem/anaconda3/Library/bin/graphviz'\n",
    "os.environ[\"PATH\"] += os.pathsep + your_graphviz_install_directory"
   ]
  },
  {
   "cell_type": "code",
   "execution_count": 2,
   "metadata": {},
   "outputs": [
    {
     "name": "stderr",
     "output_type": "stream",
     "text": [
      "C:\\Users\\bosem\\anaconda3\\lib\\site-packages\\IPython\\core\\interactiveshell.py:3063: DtypeWarning: Columns (41,122) have mixed types.Specify dtype option on import or set low_memory=False.\n",
      "  interactivity=interactivity, compiler=compiler, result=result)\n"
     ]
    }
   ],
   "source": [
    "passes = pd.read_csv('Passesfrom11seasons.csv')\n",
    "passes['location'] = passes['location'].astype(str).str.strip('[]')\n",
    "passes['y_loc'] = passes['location'].str.split(', ').str.get(0).str.strip().astype(float)\n",
    "passes['x_loc'] = passes['location'].str.split(', ').str.get(1).str.strip().astype(float)\n",
    "passes['pass_end_location'] = passes['pass_end_location'].astype(str).str.strip('[]')\n",
    "passes['end_y_loc'] = passes['pass_end_location'].str.split(', ').str.get(0).str.strip().astype(float)\n",
    "passes['end_x_loc'] = passes['pass_end_location'].str.split(', ').str.get(1).str.strip().astype(float)\n",
    "# Reset index\n",
    "passes = passes.reset_index().drop('level_0', axis=1)\n",
    "# Create succes column\n",
    "passes.loc[passes['pass_outcome_name'].isnull(),'success'] = 1\n",
    "passes.loc[passes['pass_outcome_name'].notnull(), 'success'] = 0\n",
    "passes['x_dist'] = passes['end_x_loc'] - passes['x_loc'] + 1e-5\n",
    "passes['y_dist'] = passes['end_y_loc'] - passes['y_loc']\n",
    "passes['distance'] = np.sqrt((passes['x_dist']**2 + passes['y_dist']**2))\n",
    "passes['angle'] = np.abs(np.arctan2(passes['y_dist'],passes['x_dist']))\n",
    "feature_cols = ['duration', 'angle', 'pass_body_part_name', 'x_loc', 'y_loc', 'end_x_loc','end_y_loc',\n",
    "                'pass_cross', 'pass_cut_back', 'pass_deflected', 'pass_height_name', 'distance', \n",
    "                'pass_switch', 'pass_through_ball', 'play_pattern_name', 'under_pressure', 'success']\n",
    "pass_final = passes[feature_cols]\n",
    "bool_cols = ['pass_cross', 'pass_cut_back', 'pass_deflected','pass_switch', 'pass_through_ball','under_pressure']\n",
    "for col in bool_cols:\n",
    "    pass_final[col] = np.where(pass_final[col].isna(), 0, 1)\n",
    "features = pass_final.drop('success', axis=1)\n",
    "labels = pass_final['success']"
   ]
  },
  {
   "cell_type": "code",
   "execution_count": 3,
   "metadata": {},
   "outputs": [],
   "source": [
    "cont_cols = ['duration', 'angle', 'distance','x_loc', 'y_loc', 'end_x_loc','end_y_loc'] \n",
    "cat_features = features.drop(cont_cols, axis=1)\n",
    "cont_features = features[cont_cols]\n",
    "def display_all(df):\n",
    "    with pd.option_context(\"display.max_rows\", 1000): \n",
    "        with pd.option_context(\"display.max_columns\", 1000): \n",
    "            display(df.head(20).transpose())\n",
    "def label_encode(df):\n",
    "    # Convert df to label encoded\n",
    "    df_le = pd.DataFrame({col: df[col].astype('category').cat.codes for col in df}, index=df.index)\n",
    "    # Save mappings as a dict\n",
    "    mappings = {col: {n: cat for n, cat in enumerate(df[col].astype('category').cat.categories)} \n",
    "     for col in df}\n",
    "    return df_le, mappings\n",
    "cat_features_le, mappings = label_encode(cat_features)\n",
    "features_le = cont_features.merge(cat_features_le, left_index=True, right_index=True)"
   ]
  },
  {
   "cell_type": "code",
   "execution_count": 4,
   "metadata": {},
   "outputs": [
    {
     "name": "stdout",
     "output_type": "stream",
     "text": [
      "Brier loss: 0.06524\n"
     ]
    }
   ],
   "source": [
    "X = features_le\n",
    "y = labels\n",
    " \n",
    "m = RandomForestClassifier(n_estimators=100, n_jobs=-1, random_state=42)\n",
    "cv = StratifiedKFold(n_splits=5, shuffle=True, random_state=42)\n",
    " \n",
    "# Define a function to calculate the Brier loss using cross-validation\n",
    "def get_loss(X, y=y, m=m, cv=cv):\n",
    "    scores = cross_val_score(m, X, y, cv=cv, scoring='brier_score_loss')\n",
    "    return np.mean(scores)*-1\n",
    " \n",
    "loss = get_loss(X=X)\n",
    "print('Brier loss:', \"{0:.5f}\".format(loss))"
   ]
  },
  {
   "cell_type": "code",
   "execution_count": 5,
   "metadata": {},
   "outputs": [],
   "source": [
    "# from numpy.random import rand\n",
    "# from numpy.random import seed\n",
    "# seed(42)\n",
    "# copyX = X + rand(*X.shape) / 100000.0\n",
    "# def dendrogram(X):\n",
    "#     corr = np.round(scipy.stats.spearmanr(X).correlation, 4)\n",
    "#     corr_condensed = hc.distance.squareform(1-corr)\n",
    "#     z = hc.linkage(corr_condensed, method='average')\n",
    "#     fig = plt.figure(figsize=(10,8))\n",
    "#     dendrogram = hc.dendrogram(z, labels=X.columns, \n",
    "#           orientation='right', leaf_font_size=16)\n",
    "#     plt.show()\n",
    "#     return\n",
    "# dendrogram(copyX)"
   ]
  },
  {
   "cell_type": "code",
   "execution_count": 6,
   "metadata": {},
   "outputs": [],
   "source": [
    "# feats = ['x_loc', 'end_x_loc',\n",
    "#          'y_loc', 'end_y_loc',\n",
    "#          'distance', 'duration']\n",
    "# print('original', \"{0:.5f}\".format(loss))\n",
    "# for feat in feats:\n",
    "#     loss_feats = get_loss(X=X.drop(feat, axis=1))   \n",
    "#     print(feat, \"{0:.5f}\".format(loss_feats))"
   ]
  },
  {
   "cell_type": "code",
   "execution_count": 7,
   "metadata": {},
   "outputs": [],
   "source": [
    "# Define a function to get feature importance using the drop-column method\n",
    "# def get_imp(X, y=y, m=m, cv=cv):\n",
    "#     baseline = get_loss(X=X, y=y, m=m, cv=cv)\n",
    "#     imp = []\n",
    "#     for col in X.columns:\n",
    "#         s = get_loss(X=X.drop(col, axis=1), y=y, m=m, cv=cv)\n",
    "#         change_in_score = s - baseline\n",
    "#         imp.append(change_in_score)\n",
    "#     imp_df = pd.DataFrame(data={'Feature': X.columns, 'Importance': np.array(imp)})\n",
    "#     imp_df = imp_df.set_index('Feature').sort_values('Importance', ascending=False)\n",
    "#     return imp_df\n",
    "\n",
    "# imp1 = get_imp(X=X)\n",
    "# imp1.reset_index().plot('Feature', 'Importance', figsize=(10,6), legend=False);"
   ]
  },
  {
   "cell_type": "code",
   "execution_count": 8,
   "metadata": {},
   "outputs": [],
   "source": [
    "# plot_importances(imp1, imp_range=(min(imp1.values), max(imp1.values)))"
   ]
  },
  {
   "cell_type": "code",
   "execution_count": 9,
   "metadata": {},
   "outputs": [],
   "source": [
    "X_train, X_test, y_train, y_test = train_test_split(X, y, test_size=0.20, shuffle=True, stratify=y, random_state=42)"
   ]
  },
  {
   "cell_type": "code",
   "execution_count": 10,
   "metadata": {},
   "outputs": [],
   "source": [
    "# Define a function to create n_estimators vs Brier loss plots for different hyperparameters\n",
    "# Modified from https://scikit-learn.org/stable/auto_examples/ensemble/plot_ensemble_oob.html\n",
    "# from collections import OrderedDict\n",
    "\n",
    "# def plot_loss(model_list, min_estimators=10, max_estimators=200):\n",
    "#     # Map a classifier name to a list of (n_estimators, Brier loss) pairs\n",
    "#     loss_rate = OrderedDict((clf_name, []) for clf_name, _ in model_list)\n",
    "\n",
    "#     # Range of 'n_estimators' values to explore\n",
    "#     min_estimators = min_estimators\n",
    "#     max_estimators = max_estimators\n",
    "\n",
    "#     for clf_name, clf in model_list:\n",
    "#         for i in range(min_estimators, max_estimators + 1):\n",
    "#             clf.set_params(n_estimators=i)\n",
    "#             clf.fit(X_train, y_train)\n",
    "\n",
    "#             # Record the Brier loss for each 'n_estimators=i' setting\n",
    "#             y_pred = clf.predict(X_test)\n",
    "#             y_pred_proba = clf.predict_proba(X_test)\n",
    "#             brier = brier_score_loss(y_test, y_pred_proba[:,1])\n",
    "#             loss_rate[clf_name].append((i, brier))\n",
    "    \n",
    "#     # Generate the plot\n",
    "#     plt.figure(figsize=(12,8))\n",
    "    \n",
    "#     for clf_name, clf_err in loss_rate.items():\n",
    "#         xs, ys = zip(*clf_err)\n",
    "#         plt.plot(xs, ys, label=clf_name)\n",
    "\n",
    "#     plt.xlim(min_estimators, max_estimators)\n",
    "#     plt.xlabel(\"n_estimators\")\n",
    "#     plt.ylabel(\"Brier loss\")\n",
    "#     plt.legend(loc=\"upper right\");\n",
    "#     return"
   ]
  },
  {
   "cell_type": "code",
   "execution_count": 11,
   "metadata": {},
   "outputs": [],
   "source": [
    "# Setting warm_start=True is necessary for tracking the loss rate during training for different values of n_estimators\n",
    "# max_features = [\n",
    "#     (\"RandomForestClassifier, max_features='sqrt'\",\n",
    "#         RandomForestClassifier(n_estimators=100, warm_start=True, max_features='sqrt', random_state=42)),\n",
    "#     (\"RandomForestClassifier, max_features=0.5\",\n",
    "#         RandomForestClassifier(n_estimators=100, warm_start=True, max_features=0.5, random_state=42)),\n",
    "#     (\"RandomForestClassifier, max_features=None\",\n",
    "#         RandomForestClassifier(n_estimators=100, warm_start=True, max_features=None, random_state=42)),\n",
    "# ]\n",
    "\n",
    "# # Note that 'log2' is another commonly used value of max_features, but in this case it's essentially the same as 'sqrt'\n",
    "# plot_loss(max_features)"
   ]
  },
  {
   "cell_type": "code",
   "execution_count": 12,
   "metadata": {},
   "outputs": [],
   "source": [
    "#  Fit base model to use for comparison\n",
    "# m = RandomForestClassifier(n_estimators=100, n_jobs=-1, max_features='sqrt', random_state=42)\n",
    "# cv = StratifiedKFold(n_splits=5, shuffle=True, random_state=42)\n",
    "# scores = cross_val_score(m, X_train, y_train, cv=cv, scoring='brier_score_loss')\n",
    "# print('Brier loss:', \"{0:.5f}\".format(np.mean(scores)*-1))"
   ]
  },
  {
   "cell_type": "code",
   "execution_count": 13,
   "metadata": {},
   "outputs": [],
   "source": [
    "# Create the parameter grid\n",
    "# params = {\n",
    "#     'min_samples_leaf': [3, 4, 5, 6, 7],\n",
    "#     'max_depth': [7, 8, 9, 10, 11]\n",
    "# }\n",
    "\n",
    "# # Create the grid search model\n",
    "# gs = GridSearchCV(estimator=m, param_grid=params, cv=cv, n_jobs=-1,\n",
    "#                   scoring='brier_score_loss', return_train_score=True)\n",
    "\n",
    "# # Fit gs\n",
    "# gs.fit(X_train, y_train)\n",
    "\n",
    "# # Define function to print the results of the grid search\n",
    "# def print_gs_results(gs, print_all=True):\n",
    "#     if print_all == True:\n",
    "#         print('Grid scores:')\n",
    "#         means = gs.cv_results_['mean_test_score']*-1\n",
    "#         stds = gs.cv_results_['std_test_score']\n",
    "#         for mean, std, params in zip(means, stds, gs.cv_results_['params']):\n",
    "#             print(\"%0.5f (+/-%0.05f) for %r\"\n",
    "#                   % (mean, std * 2, params))\n",
    "#         print()\n",
    "#         print('Best:', \"{0:.5f}\".format(gs.best_score_*-1),'using %s' % gs.best_params_)\n",
    "#     else:\n",
    "#         print('Best:', \"{0:.5f}\".format(gs.best_score_*-1),'using %s' % gs.best_params_)\n",
    "#     return"
   ]
  },
  {
   "cell_type": "code",
   "execution_count": 14,
   "metadata": {},
   "outputs": [],
   "source": [
    "# print_gs_results(gs=gs)"
   ]
  },
  {
   "cell_type": "code",
   "execution_count": 15,
   "metadata": {},
   "outputs": [
    {
     "name": "stdout",
     "output_type": "stream",
     "text": [
      "Brier loss: 0.06331\n"
     ]
    }
   ],
   "source": [
    "xgb = XGBClassifier(objective='binary:logistic', random_state=42, n_jobs=-1)\n",
    "xgb.fit(X_train, y_train)\n",
    "scores = cross_val_score(xgb, X_train, y_train, cv=cv, scoring='brier_score_loss')\n",
    "print('Brier loss:', \"{0:.5f}\".format(np.mean(scores)*-1))"
   ]
  },
  {
   "cell_type": "code",
   "execution_count": 16,
   "metadata": {},
   "outputs": [],
   "source": [
    "# Create the parameter grid\n",
    "# from sklearn.model_selection import StratifiedKFold, train_test_split, cross_val_score, GridSearchCV, RandomizedSearchCV\n",
    "# params = {\n",
    "#     'learning_rate': [0.0001, 0.001, 0.01, 0.1, 0.2, 0.3],\n",
    "#     'n_estimators': [int(x) for x in np.linspace(start=100, stop=500, num=9)],\n",
    "#     'max_depth': [i for i in range(3, 10)],\n",
    "#     'min_child_weight': [i for i in range(1, 7)],\n",
    "#     'subsample': [i/10.0 for i in range(6,11)],\n",
    "#     'colsample_bytree': [i/10.0 for i in range(6,11)]\n",
    "# }\n",
    "\n",
    "# # Create the randomised grid search model\n",
    "# # See http://scikit-learn.sourceforge.net/stable/modules/generated/sklearn.grid_search.RandomizedSearchCV.html\n",
    "# # \"n_iter = number of parameter settings that are sampled. n_iter trades off runtime vs quality of the solution\"\n",
    "# rgs = RandomizedSearchCV(estimator=xgb, param_distributions=params, n_iter=20, cv=cv, random_state=42, n_jobs=-1,\n",
    "#                          scoring='brier_score_loss', return_train_score=True)\n",
    "\n",
    "# # Fit rgs\n",
    "# rgs.fit(X_train, y_train)\n",
    "\n",
    "# # Print results\n",
    "# print_gs_results(gs=rgs, print_all=False)"
   ]
  },
  {
   "cell_type": "code",
   "execution_count": 17,
   "metadata": {},
   "outputs": [
    {
     "name": "stdout",
     "output_type": "stream",
     "text": [
      "Actual passes: 33385.0\n",
      "Predicted passes (xgb): 33391.86\n",
      "Brier loss (xgb): 0.06395\n"
     ]
    }
   ],
   "source": [
    "# Define a function to help fit models and print the results\n",
    "def print_results(xgb, X_train=X_train, y_train=y_train, X_test=X_test, y_test=y_test):\n",
    "    # Fit model\n",
    "    xgb.fit(X_train, y_train)\n",
    "    \n",
    "    # Get predicted probabilities\n",
    "    y_pred_proba_xgb = xgb.predict_proba(X_test)[:,1]\n",
    "\n",
    "    # Print results\n",
    "    print('Actual passes:', sum(y_test))\n",
    "    print('Predicted passes (xgb):', '{0:.2f}'.format(sum(y_pred_proba_xgb)))\n",
    "    print('Brier loss (xgb):', '{0:.5f}'.format(brier_score_loss(y_test, y_pred_proba_xgb)))\n",
    "    return\n",
    "\n",
    "# Evaluate best models on the hold-out set\n",
    "# best_xgb = rgs.best_estimator_\n",
    "\n",
    "print_results(xgb=xgb)"
   ]
  },
  {
   "cell_type": "code",
   "execution_count": 18,
   "metadata": {},
   "outputs": [],
   "source": [
    "# calibrated_xgb = CalibratedClassifierCV(rgs.best_estimator_, cv=cv, method='sigmoid')\n",
    "\n",
    "# print_results(xgb=calibrated_xgb)"
   ]
  },
  {
   "cell_type": "code",
   "execution_count": 23,
   "metadata": {},
   "outputs": [],
   "source": [
    "import pickle\n",
    "filename = 'final_model2.sav'\n",
    "pickle.dump(xgb, open(filename, 'wb'))"
   ]
  },
  {
   "cell_type": "code",
   "execution_count": 21,
   "metadata": {},
   "outputs": [
    {
     "data": {
      "text/plain": [
       "<sklearn.metrics._plot.confusion_matrix.ConfusionMatrixDisplay at 0x25d587ed0c8>"
      ]
     },
     "execution_count": 21,
     "metadata": {},
     "output_type": "execute_result"
    },
    {
     "data": {
      "image/png": "[encoded data removed]",
      "text/plain": [
       "<Figure size 432x288 with 2 Axes>"
      ]
     },
     "metadata": {
      "needs_background": "light"
     },
     "output_type": "display_data"
    }
   ],
   "source": [
    "from sklearn.metrics import plot_confusion_matrix \n",
    "plot_confusion_matrix(xgb, X_test, y_test,\n",
    "                                 cmap=plt.cm.Blues)"
   ]
  },
  {
   "cell_type": "code",
   "execution_count": null,
   "metadata": {},
   "outputs": [],
   "source": []
  }
 ],
 "metadata": {
  "kernelspec": {
   "display_name": "Python 3",
   "language": "python",
   "name": "python3"
  },
  "language_info": {
   "codemirror_mode": {
    "name": "ipython",
    "version": 3
   },
   "file_extension": ".py",
   "mimetype": "text/x-python",
   "name": "python",
   "nbconvert_exporter": "python",
   "pygments_lexer": "ipython3",
   "version": "3.7.6"
  }
 },
 "nbformat": 4,
 "nbformat_minor": 4
}
