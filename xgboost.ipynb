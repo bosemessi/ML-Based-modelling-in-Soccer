{
  "nbformat": 4,
  "nbformat_minor": 0,
  "metadata": {
    "colab": {
      "name": "xgboost.ipynb",
      "provenance": [],
      "collapsed_sections": [
        "-DOe7Ea5-Mai"
      ],
      "mount_file_id": "13Vgw7lhBq1qQX7th9EBQ-Ly5riZOv8WP",
      "authorship_tag": "ABX9TyN5E+MBv5cSsmp0iSyOC8ij",
      "include_colab_link": true
    },
    "kernelspec": {
      "name": "python3",
      "display_name": "Python 3"
    }
  },
  "cells": [
    {
      "cell_type": "markdown",
      "metadata": {
        "id": "view-in-github",
        "colab_type": "text"
      },
      "source": [
        "<a href=\"https://colab.research.google.com/github/bosemessi/ML-Based-modelling-in-Soccer/blob/master/xgboost.ipynb\" target=\"_parent\"><img src=\"https://colab.research.google.com/assets/colab-badge.svg\" alt=\"Open In Colab\"/></a>"
      ]
    },
    {
      "cell_type": "markdown",
      "metadata": {
        "id": "-DOe7Ea5-Mai"
      },
      "source": [
        "#Imports"
      ]
    },
    {
      "cell_type": "code",
      "metadata": {
        "colab": {
          "base_uri": "https://localhost:8080/"
        },
        "id": "MkGc3QN8-FJC",
        "outputId": "d2f7541d-c826-460b-eecc-92198a5c6780"
      },
      "source": [
        "!pip install pdpbox\r\n",
        "from pdpbox import pdp # pip install firs\r\n",
        "!pip install scikit-plot\r\n",
        "!pip install rfpimp\r\n",
        "!pip install dtreeviz\r\n",
        "!pip install catboost\r\n",
        "import os;\r\n",
        "import pandas as pd\r\n",
        "import tqdm\r\n",
        "import warnings\r\n",
        "import numpy as np\r\n",
        "from numpy.random import rand\r\n",
        "from numpy.random import seed\r\n",
        "warnings.simplefilter(action='ignore', category=pd.errors.PerformanceWarning)\r\n",
        "import math\r\n",
        "import time\r\n",
        "import json\r\n",
        "import requests\r\n",
        "from pandas import json_normalize\r\n",
        "import os\r\n",
        "import csv\r\n",
        "pd.options.mode.chained_assignment = None\r\n",
        "import matplotlib.pyplot as plt\r\n",
        "import scikitplot as skplt\r\n",
        "import scipy  \r\n",
        "from scipy.cluster import hierarchy as hc\r\n",
        "from collections import defaultdict\r\n",
        "from rfpimp import *\r\n",
        "# Machine learning\r\n",
        "from sklearn import preprocessing, model_selection, svm, metrics\r\n",
        "from sklearn.model_selection import train_test_split, cross_val_predict, cross_val_score, GridSearchCV\r\n",
        "from sklearn.ensemble import RandomForestClassifier\r\n",
        "from sklearn.ensemble import ExtraTreesClassifier\r\n",
        "from sklearn.ensemble import GradientBoostingClassifier\r\n",
        "from sklearn.linear_model import LogisticRegression\r\n",
        "from sklearn.tree import DecisionTreeClassifier\r\n",
        "from xgboost import XGBClassifier\r\n",
        "from sklearn.utils import resample\r\n",
        "from sklearn.feature_selection import RFE\r\n",
        "from imblearn.over_sampling import SMOTE\r\n",
        "from collections import Counter\r\n",
        "from sklearn.model_selection import train_test_split, StratifiedKFold\r\n",
        "from sklearn.utils.class_weight import compute_class_weight\r\n",
        "from imblearn.over_sampling import SMOTENC\r\n",
        "from sklearn.preprocessing import StandardScaler \r\n",
        "from sklearn.decomposition import PCA\r\n",
        "from imblearn.under_sampling import TomekLinks\r\n",
        "from imblearn.under_sampling import EditedNearestNeighbours\r\n",
        "from imblearn.combine import SMOTETomek\r\n",
        "from imblearn.combine import SMOTEENN\r\n",
        "from sklearn.metrics import matthews_corrcoef\r\n",
        "from sklearn.metrics import brier_score_loss\r\n",
        "from sklearn.calibration import CalibratedClassifierCV, calibration_curve\r\n",
        "from imblearn.ensemble import BalancedRandomForestClassifier\r\n",
        "from sklearn.ensemble import AdaBoostClassifier\r\n",
        "from sklearn.datasets import make_classification\r\n",
        "import pandas as pd\r\n",
        "import numpy as np\r\n",
        "from sklearn.ensemble import RandomForestClassifier\r\n",
        "from xgboost import XGBClassifier\r\n",
        "from sklearn import preprocessing, model_selection, metrics\r\n",
        "from sklearn.model_selection import StratifiedKFold, train_test_split, cross_val_score, GridSearchCV, RandomizedSearchCV\r\n",
        "from sklearn.metrics import make_scorer, brier_score_loss\r\n",
        "from sklearn.calibration import CalibratedClassifierCV\r\n",
        "import matplotlib.pyplot as plt\r\n",
        "from matplotlib.legend_handler import HandlerLine2D\r\n",
        "from collections import OrderedDict\r\n",
        "from imblearn.under_sampling import TomekLinks\r\n",
        "from dtreeviz.trees import *\r\n",
        "# Then run the code below if you get an error telling you that graphviz isn't in your system path (Windows users)\r\n",
        "# https://stackoverflow.com/a/44625895\r\n",
        "your_graphviz_install_directory = 'C:/Users/bosem/anaconda3/Library/bin/graphviz'\r\n",
        "os.environ[\"PATH\"] += os.pathsep + your_graphviz_install_directory"
      ],
      "execution_count": null,
      "outputs": [
        {
          "output_type": "stream",
          "text": [
            "Collecting pdpbox\n",
            "\u001b[?25l  Downloading https://files.pythonhosted.org/packages/87/23/ac7da5ba1c6c03a87c412e7e7b6e91a10d6ecf4474906c3e736f93940d49/PDPbox-0.2.0.tar.gz (57.7MB)\n",
            "\u001b[K     |████████████████████████████████| 57.7MB 71kB/s \n",
            "\u001b[?25hRequirement already satisfied: pandas in /usr/local/lib/python3.6/dist-packages (from pdpbox) (1.1.5)\n",
            "Requirement already satisfied: numpy in /usr/local/lib/python3.6/dist-packages (from pdpbox) (1.18.5)\n",
            "Requirement already satisfied: scipy in /usr/local/lib/python3.6/dist-packages (from pdpbox) (1.4.1)\n",
            "Requirement already satisfied: matplotlib>=2.1.2 in /usr/local/lib/python3.6/dist-packages (from pdpbox) (3.2.2)\n",
            "Requirement already satisfied: joblib in /usr/local/lib/python3.6/dist-packages (from pdpbox) (0.17.0)\n",
            "Requirement already satisfied: psutil in /usr/local/lib/python3.6/dist-packages (from pdpbox) (5.4.8)\n",
            "Requirement already satisfied: scikit-learn in /usr/local/lib/python3.6/dist-packages (from pdpbox) (0.22.2.post1)\n",
            "Requirement already satisfied: python-dateutil>=2.7.3 in /usr/local/lib/python3.6/dist-packages (from pandas->pdpbox) (2.8.1)\n",
            "Requirement already satisfied: pytz>=2017.2 in /usr/local/lib/python3.6/dist-packages (from pandas->pdpbox) (2018.9)\n",
            "Requirement already satisfied: pyparsing!=2.0.4,!=2.1.2,!=2.1.6,>=2.0.1 in /usr/local/lib/python3.6/dist-packages (from matplotlib>=2.1.2->pdpbox) (2.4.7)\n",
            "Requirement already satisfied: cycler>=0.10 in /usr/local/lib/python3.6/dist-packages (from matplotlib>=2.1.2->pdpbox) (0.10.0)\n",
            "Requirement already satisfied: kiwisolver>=1.0.1 in /usr/local/lib/python3.6/dist-packages (from matplotlib>=2.1.2->pdpbox) (1.3.1)\n",
            "Requirement already satisfied: six>=1.5 in /usr/local/lib/python3.6/dist-packages (from python-dateutil>=2.7.3->pandas->pdpbox) (1.15.0)\n",
            "Building wheels for collected packages: pdpbox\n",
            "  Building wheel for pdpbox (setup.py) ... \u001b[?25l\u001b[?25hdone\n",
            "  Created wheel for pdpbox: filename=PDPbox-0.2.0-cp36-none-any.whl size=57690722 sha256=f83d8034b2aeee4495214d0975a94d36a32b20bb4d2853046859c843dd37b5b2\n",
            "  Stored in directory: /root/.cache/pip/wheels/7d/08/51/63fd122b04a2c87d780464eeffb94867c75bd96a64d500a3fe\n",
            "Successfully built pdpbox\n",
            "Installing collected packages: pdpbox\n",
            "Successfully installed pdpbox-0.2.0\n",
            "Collecting scikit-plot\n",
            "  Downloading https://files.pythonhosted.org/packages/7c/47/32520e259340c140a4ad27c1b97050dd3254fdc517b1d59974d47037510e/scikit_plot-0.3.7-py3-none-any.whl\n",
            "Requirement already satisfied: scipy>=0.9 in /usr/local/lib/python3.6/dist-packages (from scikit-plot) (1.4.1)\n",
            "Requirement already satisfied: matplotlib>=1.4.0 in /usr/local/lib/python3.6/dist-packages (from scikit-plot) (3.2.2)\n",
            "Requirement already satisfied: scikit-learn>=0.18 in /usr/local/lib/python3.6/dist-packages (from scikit-plot) (0.22.2.post1)\n",
            "Requirement already satisfied: joblib>=0.10 in /usr/local/lib/python3.6/dist-packages (from scikit-plot) (0.17.0)\n",
            "Requirement already satisfied: numpy>=1.13.3 in /usr/local/lib/python3.6/dist-packages (from scipy>=0.9->scikit-plot) (1.18.5)\n",
            "Requirement already satisfied: pyparsing!=2.0.4,!=2.1.2,!=2.1.6,>=2.0.1 in /usr/local/lib/python3.6/dist-packages (from matplotlib>=1.4.0->scikit-plot) (2.4.7)\n",
            "Requirement already satisfied: cycler>=0.10 in /usr/local/lib/python3.6/dist-packages (from matplotlib>=1.4.0->scikit-plot) (0.10.0)\n",
            "Requirement already satisfied: python-dateutil>=2.1 in /usr/local/lib/python3.6/dist-packages (from matplotlib>=1.4.0->scikit-plot) (2.8.1)\n",
            "Requirement already satisfied: kiwisolver>=1.0.1 in /usr/local/lib/python3.6/dist-packages (from matplotlib>=1.4.0->scikit-plot) (1.3.1)\n",
            "Requirement already satisfied: six in /usr/local/lib/python3.6/dist-packages (from cycler>=0.10->matplotlib>=1.4.0->scikit-plot) (1.15.0)\n",
            "Installing collected packages: scikit-plot\n",
            "Successfully installed scikit-plot-0.3.7\n",
            "Collecting rfpimp\n",
            "  Downloading https://files.pythonhosted.org/packages/77/88/07a3c75ae8f1c9643d5ee72ca72f3ac5a48ab09d3eaad9a187fdc024d995/rfpimp-1.3.6.tar.gz\n",
            "Requirement already satisfied: numpy in /usr/local/lib/python3.6/dist-packages (from rfpimp) (1.18.5)\n",
            "Requirement already satisfied: pandas in /usr/local/lib/python3.6/dist-packages (from rfpimp) (1.1.5)\n",
            "Requirement already satisfied: scikit-learn in /usr/local/lib/python3.6/dist-packages (from rfpimp) (0.22.2.post1)\n",
            "Requirement already satisfied: matplotlib in /usr/local/lib/python3.6/dist-packages (from rfpimp) (3.2.2)\n",
            "Requirement already satisfied: python-dateutil>=2.7.3 in /usr/local/lib/python3.6/dist-packages (from pandas->rfpimp) (2.8.1)\n",
            "Requirement already satisfied: pytz>=2017.2 in /usr/local/lib/python3.6/dist-packages (from pandas->rfpimp) (2018.9)\n",
            "Requirement already satisfied: joblib>=0.11 in /usr/local/lib/python3.6/dist-packages (from scikit-learn->rfpimp) (0.17.0)\n",
            "Requirement already satisfied: scipy>=0.17.0 in /usr/local/lib/python3.6/dist-packages (from scikit-learn->rfpimp) (1.4.1)\n",
            "Requirement already satisfied: cycler>=0.10 in /usr/local/lib/python3.6/dist-packages (from matplotlib->rfpimp) (0.10.0)\n",
            "Requirement already satisfied: pyparsing!=2.0.4,!=2.1.2,!=2.1.6,>=2.0.1 in /usr/local/lib/python3.6/dist-packages (from matplotlib->rfpimp) (2.4.7)\n",
            "Requirement already satisfied: kiwisolver>=1.0.1 in /usr/local/lib/python3.6/dist-packages (from matplotlib->rfpimp) (1.3.1)\n",
            "Requirement already satisfied: six>=1.5 in /usr/local/lib/python3.6/dist-packages (from python-dateutil>=2.7.3->pandas->rfpimp) (1.15.0)\n",
            "Building wheels for collected packages: rfpimp\n",
            "  Building wheel for rfpimp (setup.py) ... \u001b[?25l\u001b[?25hdone\n",
            "  Created wheel for rfpimp: filename=rfpimp-1.3.6-cp36-none-any.whl size=10645 sha256=1d24cf0628714c0a5ef8eae14a500a1977d3496d6bd687aef4a98979545405bb\n",
            "  Stored in directory: /root/.cache/pip/wheels/4d/dc/d3/cf941c8f72eb5f1864506a1a6ddd689729063798292e539522\n",
            "Successfully built rfpimp\n",
            "Installing collected packages: rfpimp\n",
            "Successfully installed rfpimp-1.3.6\n",
            "Collecting dtreeviz\n",
            "\u001b[?25l  Downloading https://files.pythonhosted.org/packages/31/57/37124098be67a2edf55c909c77b634d1723abecb54b8ded3e7b3b02af384/dtreeviz-1.1.3.tar.gz (49kB)\n",
            "\u001b[K     |████████████████████████████████| 51kB 2.7MB/s \n",
            "\u001b[?25hRequirement already satisfied: graphviz>=0.9 in /usr/local/lib/python3.6/dist-packages (from dtreeviz) (0.10.1)\n",
            "Requirement already satisfied: pandas in /usr/local/lib/python3.6/dist-packages (from dtreeviz) (1.1.5)\n",
            "Requirement already satisfied: numpy in /usr/local/lib/python3.6/dist-packages (from dtreeviz) (1.18.5)\n",
            "Requirement already satisfied: scikit-learn in /usr/local/lib/python3.6/dist-packages (from dtreeviz) (0.22.2.post1)\n",
            "Requirement already satisfied: matplotlib in /usr/local/lib/python3.6/dist-packages (from dtreeviz) (3.2.2)\n",
            "Collecting colour\n",
            "  Downloading https://files.pythonhosted.org/packages/74/46/e81907704ab203206769dee1385dc77e1407576ff8f50a0681d0a6b541be/colour-0.1.5-py2.py3-none-any.whl\n",
            "Requirement already satisfied: xgboost in /usr/local/lib/python3.6/dist-packages (from dtreeviz) (0.90)\n",
            "Requirement already satisfied: pytest in /usr/local/lib/python3.6/dist-packages (from dtreeviz) (3.6.4)\n",
            "Collecting pyspark\n",
            "\u001b[?25l  Downloading https://files.pythonhosted.org/packages/f0/26/198fc8c0b98580f617cb03cb298c6056587b8f0447e20fa40c5b634ced77/pyspark-3.0.1.tar.gz (204.2MB)\n",
            "\u001b[K     |████████████████████████████████| 204.2MB 70kB/s \n",
            "\u001b[?25hRequirement already satisfied: python-dateutil>=2.7.3 in /usr/local/lib/python3.6/dist-packages (from pandas->dtreeviz) (2.8.1)\n",
            "Requirement already satisfied: pytz>=2017.2 in /usr/local/lib/python3.6/dist-packages (from pandas->dtreeviz) (2018.9)\n",
            "Requirement already satisfied: joblib>=0.11 in /usr/local/lib/python3.6/dist-packages (from scikit-learn->dtreeviz) (0.17.0)\n",
            "Requirement already satisfied: scipy>=0.17.0 in /usr/local/lib/python3.6/dist-packages (from scikit-learn->dtreeviz) (1.4.1)\n",
            "Requirement already satisfied: kiwisolver>=1.0.1 in /usr/local/lib/python3.6/dist-packages (from matplotlib->dtreeviz) (1.3.1)\n",
            "Requirement already satisfied: cycler>=0.10 in /usr/local/lib/python3.6/dist-packages (from matplotlib->dtreeviz) (0.10.0)\n",
            "Requirement already satisfied: pyparsing!=2.0.4,!=2.1.2,!=2.1.6,>=2.0.1 in /usr/local/lib/python3.6/dist-packages (from matplotlib->dtreeviz) (2.4.7)\n",
            "Requirement already satisfied: more-itertools>=4.0.0 in /usr/local/lib/python3.6/dist-packages (from pytest->dtreeviz) (8.6.0)\n",
            "Requirement already satisfied: attrs>=17.4.0 in /usr/local/lib/python3.6/dist-packages (from pytest->dtreeviz) (20.3.0)\n",
            "Requirement already satisfied: pluggy<0.8,>=0.5 in /usr/local/lib/python3.6/dist-packages (from pytest->dtreeviz) (0.7.1)\n",
            "Requirement already satisfied: py>=1.5.0 in /usr/local/lib/python3.6/dist-packages (from pytest->dtreeviz) (1.9.0)\n",
            "Requirement already satisfied: setuptools in /usr/local/lib/python3.6/dist-packages (from pytest->dtreeviz) (50.3.2)\n",
            "Requirement already satisfied: six>=1.10.0 in /usr/local/lib/python3.6/dist-packages (from pytest->dtreeviz) (1.15.0)\n",
            "Requirement already satisfied: atomicwrites>=1.0 in /usr/local/lib/python3.6/dist-packages (from pytest->dtreeviz) (1.4.0)\n",
            "Collecting py4j==0.10.9\n",
            "\u001b[?25l  Downloading https://files.pythonhosted.org/packages/9e/b6/6a4fb90cd235dc8e265a6a2067f2a2c99f0d91787f06aca4bcf7c23f3f80/py4j-0.10.9-py2.py3-none-any.whl (198kB)\n",
            "\u001b[K     |████████████████████████████████| 204kB 44.3MB/s \n",
            "\u001b[?25hBuilding wheels for collected packages: dtreeviz, pyspark\n",
            "  Building wheel for dtreeviz (setup.py) ... \u001b[?25l\u001b[?25hdone\n",
            "  Created wheel for dtreeviz: filename=dtreeviz-1.1.3-cp36-none-any.whl size=52493 sha256=bab72fbf8b37724428b5d593340e1e2dce4946f16e3fc2994eb8199e8d1e4531\n",
            "  Stored in directory: /root/.cache/pip/wheels/80/a9/1e/4751fda06e88399ee09410646e9d55c88787276f9537b8ebd0\n",
            "  Building wheel for pyspark (setup.py) ... \u001b[?25l\u001b[?25hdone\n",
            "  Created wheel for pyspark: filename=pyspark-3.0.1-py2.py3-none-any.whl size=204612243 sha256=94225b4d7276c7eae1320e1413ab4d3d06fdc93d2fd86b45c9b516da182e4ff1\n",
            "  Stored in directory: /root/.cache/pip/wheels/5e/bd/07/031766ca628adec8435bb40f0bd83bb676ce65ff4007f8e73f\n",
            "Successfully built dtreeviz pyspark\n",
            "Installing collected packages: colour, py4j, pyspark, dtreeviz\n",
            "Successfully installed colour-0.1.5 dtreeviz-1.1.3 py4j-0.10.9 pyspark-3.0.1\n",
            "Collecting catboost\n",
            "\u001b[?25l  Downloading https://files.pythonhosted.org/packages/7e/c1/c1c4707013f9e2f8a96899dd3a87f66c9167d6d776a6dc8fe7ec8678d446/catboost-0.24.3-cp36-none-manylinux1_x86_64.whl (66.3MB)\n",
            "\u001b[K     |████████████████████████████████| 66.3MB 64kB/s \n",
            "\u001b[?25hRequirement already satisfied: plotly in /usr/local/lib/python3.6/dist-packages (from catboost) (4.4.1)\n",
            "Requirement already satisfied: six in /usr/local/lib/python3.6/dist-packages (from catboost) (1.15.0)\n",
            "Requirement already satisfied: pandas>=0.24.0 in /usr/local/lib/python3.6/dist-packages (from catboost) (1.1.5)\n",
            "Requirement already satisfied: graphviz in /usr/local/lib/python3.6/dist-packages (from catboost) (0.10.1)\n",
            "Requirement already satisfied: scipy in /usr/local/lib/python3.6/dist-packages (from catboost) (1.4.1)\n",
            "Requirement already satisfied: matplotlib in /usr/local/lib/python3.6/dist-packages (from catboost) (3.2.2)\n",
            "Requirement already satisfied: numpy>=1.16.0 in /usr/local/lib/python3.6/dist-packages (from catboost) (1.18.5)\n",
            "Requirement already satisfied: retrying>=1.3.3 in /usr/local/lib/python3.6/dist-packages (from plotly->catboost) (1.3.3)\n",
            "Requirement already satisfied: pytz>=2017.2 in /usr/local/lib/python3.6/dist-packages (from pandas>=0.24.0->catboost) (2018.9)\n",
            "Requirement already satisfied: python-dateutil>=2.7.3 in /usr/local/lib/python3.6/dist-packages (from pandas>=0.24.0->catboost) (2.8.1)\n",
            "Requirement already satisfied: kiwisolver>=1.0.1 in /usr/local/lib/python3.6/dist-packages (from matplotlib->catboost) (1.3.1)\n",
            "Requirement already satisfied: cycler>=0.10 in /usr/local/lib/python3.6/dist-packages (from matplotlib->catboost) (0.10.0)\n",
            "Requirement already satisfied: pyparsing!=2.0.4,!=2.1.2,!=2.1.6,>=2.0.1 in /usr/local/lib/python3.6/dist-packages (from matplotlib->catboost) (2.4.7)\n",
            "Installing collected packages: catboost\n",
            "Successfully installed catboost-0.24.3\n"
          ],
          "name": "stdout"
        }
      ]
    },
    {
      "cell_type": "markdown",
      "metadata": {
        "id": "H0zFV4Fh-Ocs"
      },
      "source": [
        "#Read file"
      ]
    },
    {
      "cell_type": "code",
      "metadata": {
        "id": "adQNh_WF-Phd"
      },
      "source": [
        "folder = os.getcwd()+'/drive/MyDrive/Shots201920/'\r\n",
        "file = folder+'shots.csv'\r\n",
        "shots = pd.read_csv(file)\r\n",
        "shots['minute'] = shots['time_seconds']/60\r\n",
        "shots['minper90'] = shots['minute']/90"
      ],
      "execution_count": null,
      "outputs": []
    },
    {
      "cell_type": "markdown",
      "metadata": {
        "id": "wnrq089N-Row"
      },
      "source": [
        "#XGBoost"
      ]
    },
    {
      "cell_type": "code",
      "metadata": {
        "id": "G39wR7iT-TPK"
      },
      "source": [
        "import gc\r\n",
        "_ = gc.collect()\r\n",
        "features = ['minute','start_x','start_y','play_pattern', 'bodypart_id', 'gamestate', 'distance', 'sca',\r\n",
        "            'angle','sc','through_ball','follows_cross', 'follows_pass',\r\n",
        "        'follows_dribble', 'follows_take_on',\r\n",
        "       'follows_corner', 'follows_freekick']\r\n",
        "target = 'result_id'\r\n",
        "\r\n",
        "X = shots[features]\r\n",
        "y = shots[target]\r\n",
        "\r\n",
        "X_train, X_test, y_train, y_test = train_test_split(X, y, test_size=0.33, shuffle=True, stratify=y, random_state=42)\r\n",
        "cv = StratifiedKFold(n_splits=5, shuffle=True, random_state=42)"
      ],
      "execution_count": null,
      "outputs": []
    },
    {
      "cell_type": "code",
      "metadata": {
        "colab": {
          "base_uri": "https://localhost:8080/"
        },
        "id": "4C6s7yrYARF8",
        "outputId": "36c882cd-2f95-477c-d387-366b950823f6"
      },
      "source": [
        "xgb = XGBClassifier(objective='binary:logistic', random_state=42, n_jobs=-1)\r\n",
        "xgb.fit(X_train, y_train)\r\n",
        "scores = cross_val_score(xgb, X_train, y_train, cv=cv, scoring='brier_score_loss')\r\n",
        "print('Brier loss:', \"{0:.5f}\".format(np.mean(scores)*-1))"
      ],
      "execution_count": null,
      "outputs": [
        {
          "output_type": "stream",
          "text": [
            "Brier loss: 0.07668\n"
          ],
          "name": "stdout"
        }
      ]
    },
    {
      "cell_type": "code",
      "metadata": {
        "colab": {
          "base_uri": "https://localhost:8080/"
        },
        "id": "ooqEt2UFAfOp",
        "outputId": "a90f3a9e-636e-4623-8a4e-31b23a01ed31"
      },
      "source": [
        "scores = cross_val_score(xgb, X_train, y_train, cv=cv, scoring='brier_score_loss')\r\n",
        "y_pred_proba_xgb = xgb.predict_proba(X_test)[:,1]\r\n",
        "# Print results\r\n",
        "print('Actual goals:', sum(y_test))\r\n",
        "print('Predicted goals (xgb):', '{0:.2f}'.format(sum(y_pred_proba_xgb)))\r\n",
        "print('Brier loss (xgb):', '{0:.5f}'.format(brier_score_loss(y_test, y_pred_proba_xgb)))\r\n",
        "y_pred_xgb = xgb.predict(X_test)\r\n",
        "print(\"accuracy:\", metrics.accuracy_score(y_true=y_test, y_pred=y_pred_xgb), \"\\n\")\r\n",
        "print(metrics.classification_report(y_test, y_pred_xgb))"
      ],
      "execution_count": null,
      "outputs": [
        {
          "output_type": "stream",
          "text": [
            "Actual goals: 1685\n",
            "Predicted goals (xgb): 1646.28\n",
            "Brier loss (xgb): 0.07655\n",
            "accuracy: 0.9052906976744186 \n",
            "\n",
            "              precision    recall  f1-score   support\n",
            "\n",
            "           0       0.91      1.00      0.95     15515\n",
            "           1       0.64      0.08      0.14      1685\n",
            "\n",
            "    accuracy                           0.91     17200\n",
            "   macro avg       0.77      0.54      0.54     17200\n",
            "weighted avg       0.88      0.91      0.87     17200\n",
            "\n"
          ],
          "name": "stdout"
        }
      ]
    },
    {
      "cell_type": "code",
      "metadata": {
        "colab": {
          "base_uri": "https://localhost:8080/",
          "height": 590
        },
        "id": "B0btIKzyA5NB",
        "outputId": "5115188e-6c7a-4de6-c43a-80ca67b40fba"
      },
      "source": [
        "skplt.metrics.plot_confusion_matrix(y_test, y_pred_xgb)\r\n",
        " \r\n",
        "skplt.metrics.plot_precision_recall(y_test, xgb.predict_proba(X_test))"
      ],
      "execution_count": null,
      "outputs": [
        {
          "output_type": "execute_result",
          "data": {
            "text/plain": [
              "<matplotlib.axes._subplots.AxesSubplot at 0x7f2563358e80>"
            ]
          },
          "metadata": {
            "tags": []
          },
          "execution_count": 21
        },
        {
          "output_type": "display_data",
          "data": {
            "image/png": "[encoded data removed]",
            "text/plain": [
              "<Figure size 432x288 with 2 Axes>"
            ]
          },
          "metadata": {
            "tags": [],
            "needs_background": "light"
          }
        },
        {
          "output_type": "display_data",
          "data": {
            "image/png": "[encoded data removed]",
            "text/plain": [
              "<Figure size 432x288 with 1 Axes>"
            ]
          },
          "metadata": {
            "tags": [],
            "needs_background": "light"
          }
        }
      ]
    },
    {
      "cell_type": "code",
      "metadata": {
        "colab": {
          "base_uri": "https://localhost:8080/"
        },
        "id": "TsnjsIWCBRCG",
        "outputId": "96d9f833-a049-4237-dbc1-911f6da47e23"
      },
      "source": [
        "from sklearn.metrics import roc_auc_score\r\n",
        "predictions = xgb.predict(X_test)\r\n",
        "print(f\"Area under ROC curve: {roc_auc_score(predictions, y_test):.2f}\")"
      ],
      "execution_count": null,
      "outputs": [
        {
          "output_type": "stream",
          "text": [
            "Area under ROC curve: 0.76\n"
          ],
          "name": "stdout"
        }
      ]
    },
    {
      "cell_type": "code",
      "metadata": {
        "colab": {
          "base_uri": "https://localhost:8080/",
          "height": 389
        },
        "id": "9YAvcxN2Ddzv",
        "outputId": "cb3cb5c4-fc1b-4830-8be0-ee046d3bd5ff"
      },
      "source": [
        "# Define a function to calculate the Brier loss using cross-validation\r\n",
        "def get_loss(X, y=y, m=xgb, cv=cv):\r\n",
        "    scores = cross_val_score(m, X, y, cv=cv, scoring='brier_score_loss')\r\n",
        "    return np.mean(scores)*-1\r\n",
        "def get_imp(X, y=y, m=xgb, cv=cv):\r\n",
        "    baseline = get_loss(X=X, y=y, m=m, cv=cv)\r\n",
        "    imp = []\r\n",
        "    for col in X.columns:\r\n",
        "        s = get_loss(X=X.drop(col, axis=1), y=y, m=m, cv=cv)\r\n",
        "        change_in_score = s - baseline\r\n",
        "        imp.append(change_in_score)\r\n",
        "    imp_df = pd.DataFrame(data={'Feature': X.columns, 'Importance': np.array(imp)})\r\n",
        "    imp_df = imp_df.set_index('Feature').sort_values('Importance', ascending=False)\r\n",
        "    return imp_df\r\n",
        "\r\n",
        "imp1 = get_imp(X=X)\r\n",
        "imp1.reset_index().plot('Feature', 'Importance', figsize=(10,6), legend=False);"
      ],
      "execution_count": null,
      "outputs": [
        {
          "output_type": "display_data",
          "data": {
            "image/png": "[encoded data removed]",
            "text/plain": [
              "<Figure size 720x432 with 1 Axes>"
            ]
          },
          "metadata": {
            "tags": [],
            "needs_background": "light"
          }
        }
      ]
    },
    {
      "cell_type": "code",
      "metadata": {
        "id": "v61GvCnWDtw3"
      },
      "source": [
        ""
      ],
      "execution_count": null,
      "outputs": []
    }
  ]
}