{
 "cells": [
  {
   "cell_type": "code",
   "execution_count": 1,
   "metadata": {
    "code_folding": [
     0
    ]
   },
   "outputs": [],
   "source": [
    "#Imports\n",
    "import numpy as np\n",
    "import math\n",
    "import matplotlib.pyplot as plt\n",
    "import matplotlib as mpl\n",
    "import matplotlib.mlab as mlab\n",
    "import time\n",
    "import json\n",
    "import pandas as pd\n",
    "import requests\n",
    "from pandas import json_normalize\n",
    "import os\n",
    "import csv\n",
    "pd.options.mode.chained_assignment = None"
   ]
  },
  {
   "cell_type": "code",
   "execution_count": 2,
   "metadata": {},
   "outputs": [],
   "source": [
    "master = pd.read_csv('AllEvents201819.csv',low_memory=False)\n",
    "master = master[master.team_name != 'Barcelona']"
   ]
  },
  {
   "cell_type": "code",
   "execution_count": 3,
   "metadata": {
    "code_folding": []
   },
   "outputs": [],
   "source": [
    "# Display raw data\n",
    "def display_all(df):\n",
    "    with pd.option_context(\"display.max_rows\", 1000): \n",
    "        with pd.option_context(\"display.max_columns\", 1000): \n",
    "            display(df.head(10).transpose())\n",
    "#Uncomment the following line to display the first 10 lines of the dataframe\n",
    "# display_all(master)"
   ]
  },
  {
   "cell_type": "code",
   "execution_count": 4,
   "metadata": {
    "code_folding": []
   },
   "outputs": [
    {
     "data": {
      "text/plain": [
       "Text(2500, 0.8, 'Saved')"
      ]
     },
     "execution_count": 4,
     "metadata": {},
     "output_type": "execute_result"
    },
    {
     "data": {
      "image/png": "[encoded data removed]",
      "text/plain": [
       "<Figure size 360x216 with 1 Axes>"
      ]
     },
     "metadata": {
      "needs_background": "light"
     },
     "output_type": "display_data"
    }
   ],
   "source": [
    "# Create separate dataframe for shots on target\n",
    "shots = master.query(\"(shot_outcome_name in ['Saved','Goal','Saved to Post'])\")\n",
    "mask1 = shots.shot_outcome_name == 'Goal'\n",
    "mask2 = shots.shot_outcome_name == 'Saved'\n",
    "mask3 = shots.shot_outcome_name == 'Saved to Post'\n",
    "fig,ax = plt.subplots(figsize=(5,3))\n",
    "ax.barh(np.arange(2),[len(shots[mask1]),len(shots[mask2])+len(shots[mask3])],align='edge')\n",
    "ax.annotate('Goal',(1500,0))\n",
    "ax.annotate('Saved',(2500,0.8))"
   ]
  },
  {
   "cell_type": "code",
   "execution_count": 5,
   "metadata": {
    "code_folding": [
     0
    ]
   },
   "outputs": [],
   "source": [
    "# Split out location into x, y\n",
    "shots['location'] = shots['location'].astype(str).str.strip('[]')\n",
    "shots['x_loc'] = shots['location'].str.split(', ').str.get(0).str.strip().astype(float)\n",
    "shots['y_loc'] = shots['location'].str.split(', ').str.get(1).str.strip().astype(float)\n",
    "shots['shot_end_location'] = shots['shot_end_location'].astype(str).str.strip('[]')\n",
    "shots['end_x_loc'] = shots['shot_end_location'].str.split(', ').str.get(0).str.strip().astype(float)\n",
    "shots['end_y_loc'] = shots['shot_end_location'].str.split(', ').str.get(1).str.strip().astype(float)\n",
    "shots['end_z_loc'] = shots['shot_end_location'].str.split(', ').str.get(2).str.strip().astype(float)"
   ]
  },
  {
   "cell_type": "code",
   "execution_count": 6,
   "metadata": {
    "code_folding": [
     0
    ]
   },
   "outputs": [],
   "source": [
    "# Create goal column for labels\n",
    "shots['goal'] = np.where(shots['shot_outcome_name'] == 'Goal', 1, 0)\n",
    "\n",
    "# Create columns for distance and angle\n",
    "# In this dataset, the pitch is 120 units long and 80 units wide\n",
    "# We will measure distance and angle from the centre of the goal at (120, 40) to the starting point of the shot\n",
    "# Note we are using radians this time to help keep things consistent with pass_angle\n",
    "shots['x_dist'] = 120 - shots['x_loc']\n",
    "shots['y_dist'] = abs(40 - shots['y_loc'])\n",
    "shots['distance'] = np.sqrt((shots['x_dist']**2 + shots['y_dist']**2))\n",
    "shots['angle'] = np.arctan2(shots['y_dist'],shots['x_dist'])\n",
    "\n",
    "# Add direct free kick flag\n",
    "shots['direct_free_kick'] = np.where((shots['play_pattern_name'] == 'From Free Kick')\n",
    "                                      & (shots['pass_assisted_shot_id'].isna()), 1, 0)\n",
    "shots = shots[shots['shot_type_name'] != 'Penalty']"
   ]
  },
  {
   "cell_type": "code",
   "execution_count": 7,
   "metadata": {
    "code_folding": [
     0
    ]
   },
   "outputs": [
    {
     "data": {
      "text/plain": [
       "586       [None, None, None, None, None, None, None, Non...\n",
       "2740      [None, None, None, None, None, None, None, Non...\n",
       "3662      [None, None, None, None, None, None, None, Non...\n",
       "4576      [None, None, None, None, None, None, None, Non...\n",
       "6407      [None, None, None, None, None, None, None, Non...\n",
       "                                ...                        \n",
       "125562    [None, None, None, None, None, None, None, Non...\n",
       "128246    [None, None, None, None, None, None, None, Non...\n",
       "130679    [None, None, None, None, None, None, None, Non...\n",
       "131939    [None, None, None, None, None, None, None, Non...\n",
       "133942    [None, None, None, None, None, None, None, Non...\n",
       "Length: 115, dtype: object"
      ]
     },
     "execution_count": 7,
     "metadata": {},
     "output_type": "execute_result"
    }
   ],
   "source": [
    "# Get freeze frame info\n",
    "# The shot_freeze_frame column contains a list of dictionaries containing information about the location of each player\n",
    "# at the time of the shot\n",
    "# The code below adds shot id, x_loc and y_loc to the freeze_frame info\n",
    "# https://stackoverflow.com/questions/50782047/python-sees-list-of-dicts-as-string-how-to-parse\n",
    "\n",
    "from itertools import chain\n",
    "from ast import literal_eval\n",
    "\n",
    "freeze_frame = shots[['shot_freeze_frame', 'id', 'x_loc', 'y_loc']]\n",
    "freeze_frame_df = pd.DataFrame(freeze_frame)\n",
    "freeze_frame_df['shot_freeze_frame'] = freeze_frame_df['shot_freeze_frame'].apply(literal_eval)\n",
    "\n",
    "# Add shot_id and shot x, y locations to each dict in list for every row\n",
    "def add_shot_id(row):\n",
    "    return [item.update({'shot_id': row['id'], 'shot_x_loc': row['x_loc'], 'shot_y_loc': row['y_loc']}) \n",
    "            for item in row['shot_freeze_frame']]\n",
    "\n",
    "freeze_frame_df.apply(add_shot_id, axis=1)\n"
   ]
  },
  {
   "cell_type": "code",
   "execution_count": 8,
   "metadata": {
    "code_folding": [
     0
    ]
   },
   "outputs": [],
   "source": [
    "# Expand shot_freeze_frame into a new df\n",
    "chained = chain.from_iterable(freeze_frame_df['shot_freeze_frame'])\n",
    "ff_expanded = pd.DataFrame(list(chained))\n",
    "#Uncomment following line to view the dataframe\n",
    "# ff_expanded.head()"
   ]
  },
  {
   "cell_type": "code",
   "execution_count": 9,
   "metadata": {
    "code_folding": [
     0
    ]
   },
   "outputs": [],
   "source": [
    "# Split out location into x, y\n",
    "ff_expanded['location'] = ff_expanded['location'].astype(str).str.strip('[]')\n",
    "ff_expanded['x_loc'] = ff_expanded['location'].str.split(', ').str.get(0).str.strip().astype(float)\n",
    "ff_expanded['y_loc'] = ff_expanded['location'].str.split(', ').str.get(1).str.strip().astype(float)"
   ]
  },
  {
   "cell_type": "code",
   "execution_count": 10,
   "metadata": {
    "code_folding": [
     0
    ]
   },
   "outputs": [],
   "source": [
    "# Add distance and angle to shooter\n",
    "ff_expanded['player_x_dist'] = abs(ff_expanded['shot_x_loc'] - ff_expanded['x_loc'])\n",
    "ff_expanded['player_y_dist'] = abs(ff_expanded['shot_y_loc'] - ff_expanded['y_loc'])\n",
    "ff_expanded['player_distance_from_shooter'] = np.where(ff_expanded['player_x_dist'] < 0,\n",
    "                                            -1*np.sqrt((ff_expanded['player_x_dist']**2 + ff_expanded['player_y_dist']**2)),\n",
    "                                            np.sqrt((ff_expanded['player_x_dist']**2 + ff_expanded['player_y_dist']**2)))\n",
    "ff_expanded['player_angle_to_shooter'] = np.arctan2(ff_expanded['player_y_dist'],ff_expanded['player_x_dist'])\n",
    "# ff_expanded['x_goal_dist'] = abs(ff_expanded['x_loc'] - 120)\n",
    "# ff_expanded['y_goal_dist'] = abs(ff_expanded['y_loc'] - 40)\n",
    "# ff_expanded['distance_to_goal'] = np.sqrt((ff_expanded['x_goal_dist']**2 + ff_expanded['y_goal_dist']**2))"
   ]
  },
  {
   "cell_type": "code",
   "execution_count": 11,
   "metadata": {
    "code_folding": [
     0
    ]
   },
   "outputs": [],
   "source": [
    "# Add shot_cone and player_in_cone\n",
    "# Assume goalposts are at (120, 44) and (120, 36)\n",
    "\n",
    "# Define function to calculate area of triangle formed by (x1, y1), (x2, y2) and (x3, y3) \n",
    "# https://www.geeksforgeeks.org/check-whether-a-given-point-lies-inside-a-triangle-or-not/\n",
    "\n",
    "def area(x1, y1, x2, y2, x3, y3):\n",
    "    return abs((x1 * (y2 - y3) + x2 * (y3 - y1) + x3 * (y1 - y2)) / 2.0)\n",
    "\n",
    "def get_shot_cone(row):\n",
    "    return area(row['shot_x_loc'], row['shot_y_loc'], 120, 44, 120, 36)\n",
    "\n",
    "ff_expanded['shot_cone'] = ff_expanded.apply(get_shot_cone, axis=1)\n",
    "\n",
    "# Define function to check whether a player (point P) is inside shot_cone (area of triangle formed by ABC)\n",
    "def in_shot_cone(x1, y1, x2, y2, x3, y3, x, y): \n",
    "    # Calculate area of triangle ABC \n",
    "    A = area (x1, y1, x2, y2, x3, y3) \n",
    "    # Calculate area of triangle PBC  \n",
    "    A1 = area (x, y, x2, y2, x3, y3)  \n",
    "    # Calculate area of triangle PAC  \n",
    "    A2 = area (x1, y1, x, y, x3, y3)   \n",
    "    # Calculate area of triangle PAB  \n",
    "    A3 = area (x1, y1, x2, y2, x, y) \n",
    "    # Check if sum of A1, A2 and A3 is same as A \n",
    "    if(A == A1 + A2 + A3): \n",
    "        return 1\n",
    "    else: \n",
    "        return 0\n",
    "\n",
    "def player_in_cone(row):\n",
    "    return in_shot_cone(row['shot_x_loc'], row['shot_y_loc'], 120, 44, 120, 36, row['x_loc'], row['y_loc'])\n",
    "\n",
    "ff_expanded['player_in_shot_cone'] = ff_expanded.apply(player_in_cone, axis=1)\n",
    "\n",
    "# If player location equals shot location, set player_in_shot_cone to 1\n",
    "ff_expanded['player_in_shot_cone'] = np.where(ff_expanded['player_angle_to_shooter'].isna(), \n",
    "                                              1, ff_expanded['player_in_shot_cone'])\n",
    "\n",
    "# Set angle to 0 if na (happens when player location equals shot location)\n",
    "ff_expanded['player_angle_to_shooter'] = ff_expanded['player_angle_to_shooter'].fillna(0)"
   ]
  },
  {
   "cell_type": "code",
   "execution_count": 12,
   "metadata": {
    "code_folding": [
     0
    ]
   },
   "outputs": [],
   "source": [
    "# Add new features to main shot df\n",
    "shot_cone = pd.pivot_table(ff_expanded, index=['shot_id'], values=['shot_cone']).reset_index()\n",
    "shot_cone.columns = ['id', 'shot_cone']\n",
    "players_in_cone = pd.pivot_table(ff_expanded, index=['shot_id'], values=['player_in_shot_cone'], aggfunc=np.sum).reset_index()\n",
    "players_in_cone.columns = ['id', 'num_players_in_shot_cone']\n",
    "min_distance = pd.pivot_table(ff_expanded[ff_expanded['teammate'] == True], index=['shot_id'],\n",
    "                                          values=['player_distance_from_shooter'], aggfunc=np.min).reset_index()\n",
    "min_distance.columns = ['id', 'distance_to_nearest_opponent']\n",
    "# sum_inv_distance = pd.pivot_table(ff_expanded[ff_expanded['teammate'] == True], index=['shot_id'],\n",
    "#                                           values=['distance_to_goal'], aggfunc=np.sum).reset_index()\n",
    "# sum_inv_distance.columns = ['id', 'sum_inv_distance']\n",
    "shots = shots.merge(shot_cone, on='id', how='left')\n",
    "shots = shots.merge(players_in_cone, on='id', how='left')\n",
    "shots = shots.merge(min_distance, on='id', how='left')\n",
    "# shots = shots.merge(sum_inv_distance, on='id', how='left')"
   ]
  },
  {
   "cell_type": "code",
   "execution_count": 13,
   "metadata": {
    "code_folding": [
     0
    ]
   },
   "outputs": [],
   "source": [
    "# Shot cone angle\n",
    "length1 = 8\n",
    "def getshotconeangle(row):\n",
    "    length2 = np.sqrt((row['x_loc']-120.0)**2 +(row['y_loc']-36.0)**2)\n",
    "    length3 = np.sqrt((row['x_loc']-120.0)**2 +(row['y_loc']-44.0)**2)\n",
    "    if(length2 == 0):\n",
    "        length2 = 1e-5\n",
    "    if(length3 == 0):\n",
    "        length2 = 1e-5\n",
    "    if(row['x_loc']==120):\n",
    "        if((row['y_loc']>=36.0)&(row['y_loc']<=44.0)):\n",
    "            return np.pi\n",
    "        else:\n",
    "            return 0.0\n",
    "    else:\n",
    "        return np.arccos((length2**2 + length3**2 - length1**2)/(2.0*length2*length3))\n",
    "\n",
    "shots['shot_cone_angle'] = shots.apply(getshotconeangle, axis=1)"
   ]
  },
  {
   "cell_type": "code",
   "execution_count": 14,
   "metadata": {
    "code_folding": []
   },
   "outputs": [
    {
     "name": "stdout",
     "output_type": "stream",
     "text": [
      "x_loc                             0\n",
      "y_loc                             0\n",
      "duration                          0\n",
      "play_pattern_name                 0\n",
      "shot_body_part_name               0\n",
      "shot_first_time                  79\n",
      "shot_one_on_one                 104\n",
      "shot_open_goal                  113\n",
      "shot_technique_name               0\n",
      "under_pressure                   96\n",
      "goal                              0\n",
      "distance                          0\n",
      "angle                             0\n",
      "shot_cone_angle                   0\n",
      "direct_free_kick                  0\n",
      "shot_cone                         0\n",
      "num_players_in_shot_cone          0\n",
      "distance_to_nearest_opponent      0\n",
      "end_x_loc                         0\n",
      "end_y_loc                         0\n",
      "end_z_loc                         0\n",
      "dtype: int64\n"
     ]
    }
   ],
   "source": [
    "# Set id column as index\n",
    "shots.set_index('id', inplace=True)\n",
    "\n",
    "# Filter shots to important columns only\n",
    "feature_cols = ['x_loc','y_loc','duration', 'play_pattern_name', 'shot_body_part_name', 'shot_first_time', 'shot_one_on_one', \n",
    "                'shot_open_goal', 'shot_technique_name', 'under_pressure', 'goal', 'distance', 'angle', 'shot_cone_angle',\n",
    "                 'direct_free_kick', 'shot_cone', 'num_players_in_shot_cone', 'distance_to_nearest_opponent',\n",
    "                'end_x_loc','end_y_loc','end_z_loc']\n",
    "\n",
    "\n",
    "shots_final = shots[feature_cols]\n",
    "\n",
    "# Check for missing values\n",
    "print(shots_final.isnull().sum())"
   ]
  },
  {
   "cell_type": "code",
   "execution_count": 15,
   "metadata": {
    "code_folding": [
     0
    ]
   },
   "outputs": [],
   "source": [
    "# Handle missing values\n",
    "# Note that we don't need to fix categorical variables, as they will be set to -1 automatically\n",
    "bool_cols = ['shot_first_time', 'shot_one_on_one','shot_open_goal', 'under_pressure']\n",
    "\n",
    "# for true/false columns, set to either missing(false) = 0 and true=1\n",
    "for col in bool_cols:\n",
    "    shots_final[col] = np.where(shots_final[col].isna(), 0, 1)\n",
    "    \n",
    "# Add flag to note that values were previously missing for numeric columns\n",
    "fix_numeric = ['distance_to_nearest_opponent']\n",
    "for col in fix_numeric:\n",
    "    shots_final[col+'_na'] = pd.isnull(shots_final[col])\n",
    "\n",
    "# For distance to nearest opponent, set missing values to maximum\n",
    "shots_final['distance_to_nearest_opponent'] = shots_final['distance_to_nearest_opponent'].fillna(shots_final['distance_to_nearest_opponent'].max())"
   ]
  },
  {
   "cell_type": "code",
   "execution_count": 16,
   "metadata": {},
   "outputs": [],
   "source": [
    "shots_final['cone_density'] = np.where(shots_final['shot_cone']==0,0,\n",
    "                                       shots_final['num_players_in_shot_cone']/shots_final['shot_cone'])\n",
    "shots_final['avg_vel'] = np.where(shots_final['duration']==0,10000,\n",
    "                                       shots_final['distance']/shots_final['duration'])"
   ]
  },
  {
   "cell_type": "code",
   "execution_count": 17,
   "metadata": {},
   "outputs": [],
   "source": [
    "shots_final['v1'] = shots_final['end_x_loc'] - shots_final['x_loc']\n",
    "shots_final['v2'] = shots_final['end_y_loc'] - shots_final['y_loc']\n",
    "shots_final['t'] = np.where(shots_final['v1']==0,1,(120.0 - shots_final['x_loc'])/shots_final['v1'])\n",
    "shots_final['est_end_x'] = shots_final['x_loc'] + shots_final['t']*shots_final['v1']\n",
    "shots_final['est_end_y'] = shots_final['y_loc'] + shots_final['t']*shots_final['v2']"
   ]
  },
  {
   "cell_type": "code",
   "execution_count": 18,
   "metadata": {
    "code_folding": []
   },
   "outputs": [],
   "source": [
    "# Save to csv\n",
    "shots_final.to_csv('postshots201819.csv', index=False)"
   ]
  },
  {
   "cell_type": "code",
   "execution_count": 19,
   "metadata": {
    "code_folding": []
   },
   "outputs": [],
   "source": [
    "# Calculating histograms of some quantities and plotting goal conversion percentages \n",
    "# q = 'avg_vel'\n",
    "# arr1,bin_edges = np.histogram(shots_final[q]/100,20)\n",
    "# arr2,_ = np.histogram(shots_final[shots_final.goal==1][q].dropna(),bin_edges)\n",
    "# bin_center = [(bin_edges[i]+bin_edges[i+1])/2 for i in range(len(bin_edges)-1)]\n",
    "# conversion = []\n",
    "# for i in range(len(arr1)):\n",
    "#     if(arr1[i]==0):\n",
    "#         conversion.append(0)\n",
    "#     else:\n",
    "#         conversion.append(arr2[i]*100/arr1[i])\n",
    "# fig = plt.figure()\n",
    "# plt.plot(bin_center,conversion)\n",
    "# # # plt.xlabel(\"Number of players in shot cone\")\n",
    "# # # plt.ylabel(\"Shot conversion percent\")\n",
    "# # # plt.title(\"Shot conversion as a function of \\n number of players in shot cone\")\n",
    "# # # fig.savefig(\"Shotconeplayers\")"
   ]
  },
  {
   "cell_type": "code",
   "execution_count": null,
   "metadata": {},
   "outputs": [],
   "source": []
  }
 ],
 "metadata": {
  "kernelspec": {
   "display_name": "Python 3",
   "language": "python",
   "name": "python3"
  },
  "language_info": {
   "codemirror_mode": {
    "name": "ipython",
    "version": 3
   },
   "file_extension": ".py",
   "mimetype": "text/x-python",
   "name": "python",
   "nbconvert_exporter": "python",
   "pygments_lexer": "ipython3",
   "version": "3.7.6"
  }
 },
 "nbformat": 4,
 "nbformat_minor": 4
}
